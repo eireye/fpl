{
 "cells": [
  {
   "cell_type": "code",
   "execution_count": null,
   "metadata": {},
   "outputs": [],
   "source": [
    "#Vil ha expected points for gameweek er,\n",
    "# Vil ha faktiske points for forrige runde.\n",
    "#Putte begge tall inn i df og gi en graf på hvor lang unna de er hverandre"
   ]
  }
 ],
 "metadata": {
  "language_info": {
   "name": "python"
  },
  "orig_nbformat": 4
 },
 "nbformat": 4,
 "nbformat_minor": 2
}
