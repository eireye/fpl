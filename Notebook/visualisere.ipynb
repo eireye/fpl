{
 "cells": [
  {
   "cell_type": "code",
   "execution_count": 287,
   "metadata": {},
   "outputs": [],
   "source": [
    "import pandas as pd\n",
    "import numpy as np\n",
    "import seaborn as sns\n",
    "import matplotlib.pyplot as plt\n",
    "import requests\n",
    "import openpyxl"
   ]
  },
  {
   "cell_type": "code",
   "execution_count": 288,
   "metadata": {},
   "outputs": [],
   "source": [
    "#   Visualisere og beholde info om XP-points for neste GW, sammenligne med forrige GW. Lagre i excel/CSV fil og oppdatere den for hver runde. \n",
    "#   1. Få tak i data-en som skal visualiseres og beholdes.\n",
    "#    - latest_optimal_plan_data.groupby(\"week\")[[\"xP\"]].sum() \n",
    "# \n",
    "#    week\txP\n",
    "#   17\t  63.43\n",
    "#   18\t  66.31\n",
    "#   19\t  56.86\n",
    "\n",
    "latest_optimal_plan_data = pd.read_csv(\"../output/optimal_plan_regular.csv\")\n",
    "\n",
    "# latest_optimal_plan_data.groupby(\"week\")[[\"xP\"]].sum()"
   ]
  },
  {
   "cell_type": "code",
   "execution_count": 289,
   "metadata": {},
   "outputs": [
    {
     "data": {
      "text/html": [
       "<div>\n",
       "<style scoped>\n",
       "    .dataframe tbody tr th:only-of-type {\n",
       "        vertical-align: middle;\n",
       "    }\n",
       "\n",
       "    .dataframe tbody tr th {\n",
       "        vertical-align: top;\n",
       "    }\n",
       "\n",
       "    .dataframe thead th {\n",
       "        text-align: right;\n",
       "    }\n",
       "</style>\n",
       "<table border=\"1\" class=\"dataframe\">\n",
       "  <thead>\n",
       "    <tr style=\"text-align: right;\">\n",
       "      <th></th>\n",
       "      <th>Unnamed: 0</th>\n",
       "      <th>week</th>\n",
       "      <th>name</th>\n",
       "      <th>pos</th>\n",
       "      <th>type</th>\n",
       "      <th>team</th>\n",
       "      <th>buy_price</th>\n",
       "      <th>sell_price</th>\n",
       "      <th>xP</th>\n",
       "      <th>xMin</th>\n",
       "      <th>lineup</th>\n",
       "      <th>bench</th>\n",
       "      <th>captain</th>\n",
       "      <th>vicecaptain</th>\n",
       "      <th>transfer_in</th>\n",
       "      <th>transfer_out</th>\n",
       "    </tr>\n",
       "  </thead>\n",
       "  <tbody>\n",
       "    <tr>\n",
       "      <th>0</th>\n",
       "      <td>5</td>\n",
       "      <td>25</td>\n",
       "      <td>Pickford</td>\n",
       "      <td>GKP</td>\n",
       "      <td>1</td>\n",
       "      <td>Everton</td>\n",
       "      <td>4.4</td>\n",
       "      <td>4.4</td>\n",
       "      <td>7.02</td>\n",
       "      <td>89</td>\n",
       "      <td>1</td>\n",
       "      <td>-1</td>\n",
       "      <td>0</td>\n",
       "      <td>0</td>\n",
       "      <td>1</td>\n",
       "      <td>0</td>\n",
       "    </tr>\n",
       "    <tr>\n",
       "      <th>1</th>\n",
       "      <td>12</td>\n",
       "      <td>25</td>\n",
       "      <td>Aké</td>\n",
       "      <td>DEF</td>\n",
       "      <td>2</td>\n",
       "      <td>Man City</td>\n",
       "      <td>5.1</td>\n",
       "      <td>5.0</td>\n",
       "      <td>3.07</td>\n",
       "      <td>58</td>\n",
       "      <td>1</td>\n",
       "      <td>-1</td>\n",
       "      <td>0</td>\n",
       "      <td>0</td>\n",
       "      <td>0</td>\n",
       "      <td>0</td>\n",
       "    </tr>\n",
       "    <tr>\n",
       "      <th>2</th>\n",
       "      <td>2</td>\n",
       "      <td>25</td>\n",
       "      <td>Gabriel</td>\n",
       "      <td>DEF</td>\n",
       "      <td>2</td>\n",
       "      <td>Arsenal</td>\n",
       "      <td>5.2</td>\n",
       "      <td>5.2</td>\n",
       "      <td>8.66</td>\n",
       "      <td>84</td>\n",
       "      <td>1</td>\n",
       "      <td>-1</td>\n",
       "      <td>0</td>\n",
       "      <td>0</td>\n",
       "      <td>0</td>\n",
       "      <td>0</td>\n",
       "    </tr>\n",
       "    <tr>\n",
       "      <th>3</th>\n",
       "      <td>9</td>\n",
       "      <td>25</td>\n",
       "      <td>Alexander-Arnold</td>\n",
       "      <td>DEF</td>\n",
       "      <td>2</td>\n",
       "      <td>Liverpool</td>\n",
       "      <td>7.3</td>\n",
       "      <td>7.2</td>\n",
       "      <td>9.91</td>\n",
       "      <td>86</td>\n",
       "      <td>1</td>\n",
       "      <td>-1</td>\n",
       "      <td>0</td>\n",
       "      <td>0</td>\n",
       "      <td>0</td>\n",
       "      <td>0</td>\n",
       "    </tr>\n",
       "    <tr>\n",
       "      <th>4</th>\n",
       "      <td>7</td>\n",
       "      <td>25</td>\n",
       "      <td>Andreas</td>\n",
       "      <td>MID</td>\n",
       "      <td>3</td>\n",
       "      <td>Fulham</td>\n",
       "      <td>4.4</td>\n",
       "      <td>4.4</td>\n",
       "      <td>3.90</td>\n",
       "      <td>80</td>\n",
       "      <td>1</td>\n",
       "      <td>-1</td>\n",
       "      <td>0</td>\n",
       "      <td>0</td>\n",
       "      <td>0</td>\n",
       "      <td>0</td>\n",
       "    </tr>\n",
       "    <tr>\n",
       "      <th>5</th>\n",
       "      <td>6</td>\n",
       "      <td>25</td>\n",
       "      <td>McNeil</td>\n",
       "      <td>MID</td>\n",
       "      <td>3</td>\n",
       "      <td>Everton</td>\n",
       "      <td>5.1</td>\n",
       "      <td>5.1</td>\n",
       "      <td>5.73</td>\n",
       "      <td>71</td>\n",
       "      <td>1</td>\n",
       "      <td>-1</td>\n",
       "      <td>0</td>\n",
       "      <td>0</td>\n",
       "      <td>1</td>\n",
       "      <td>0</td>\n",
       "    </tr>\n",
       "    <tr>\n",
       "      <th>6</th>\n",
       "      <td>1</td>\n",
       "      <td>25</td>\n",
       "      <td>Saka</td>\n",
       "      <td>MID</td>\n",
       "      <td>3</td>\n",
       "      <td>Arsenal</td>\n",
       "      <td>8.4</td>\n",
       "      <td>8.2</td>\n",
       "      <td>11.45</td>\n",
       "      <td>84</td>\n",
       "      <td>1</td>\n",
       "      <td>-1</td>\n",
       "      <td>0</td>\n",
       "      <td>1</td>\n",
       "      <td>0</td>\n",
       "      <td>0</td>\n",
       "    </tr>\n",
       "    <tr>\n",
       "      <th>7</th>\n",
       "      <td>8</td>\n",
       "      <td>25</td>\n",
       "      <td>Salah</td>\n",
       "      <td>MID</td>\n",
       "      <td>3</td>\n",
       "      <td>Liverpool</td>\n",
       "      <td>12.7</td>\n",
       "      <td>12.7</td>\n",
       "      <td>12.47</td>\n",
       "      <td>84</td>\n",
       "      <td>1</td>\n",
       "      <td>-1</td>\n",
       "      <td>1</td>\n",
       "      <td>0</td>\n",
       "      <td>1</td>\n",
       "      <td>0</td>\n",
       "    </tr>\n",
       "    <tr>\n",
       "      <th>8</th>\n",
       "      <td>13</td>\n",
       "      <td>25</td>\n",
       "      <td>Haaland</td>\n",
       "      <td>FWD</td>\n",
       "      <td>4</td>\n",
       "      <td>Man City</td>\n",
       "      <td>12.2</td>\n",
       "      <td>11.9</td>\n",
       "      <td>6.93</td>\n",
       "      <td>77</td>\n",
       "      <td>1</td>\n",
       "      <td>-1</td>\n",
       "      <td>0</td>\n",
       "      <td>0</td>\n",
       "      <td>0</td>\n",
       "      <td>0</td>\n",
       "    </tr>\n",
       "    <tr>\n",
       "      <th>9</th>\n",
       "      <td>10</td>\n",
       "      <td>25</td>\n",
       "      <td>Darwin</td>\n",
       "      <td>FWD</td>\n",
       "      <td>4</td>\n",
       "      <td>Liverpool</td>\n",
       "      <td>8.7</td>\n",
       "      <td>8.7</td>\n",
       "      <td>9.17</td>\n",
       "      <td>64</td>\n",
       "      <td>1</td>\n",
       "      <td>-1</td>\n",
       "      <td>0</td>\n",
       "      <td>0</td>\n",
       "      <td>0</td>\n",
       "      <td>0</td>\n",
       "    </tr>\n",
       "    <tr>\n",
       "      <th>10</th>\n",
       "      <td>0</td>\n",
       "      <td>25</td>\n",
       "      <td>Nketiah</td>\n",
       "      <td>FWD</td>\n",
       "      <td>4</td>\n",
       "      <td>Arsenal</td>\n",
       "      <td>6.8</td>\n",
       "      <td>6.8</td>\n",
       "      <td>9.84</td>\n",
       "      <td>79</td>\n",
       "      <td>1</td>\n",
       "      <td>-1</td>\n",
       "      <td>0</td>\n",
       "      <td>0</td>\n",
       "      <td>0</td>\n",
       "      <td>0</td>\n",
       "    </tr>\n",
       "    <tr>\n",
       "      <th>11</th>\n",
       "      <td>3</td>\n",
       "      <td>25</td>\n",
       "      <td>Sánchez</td>\n",
       "      <td>GKP</td>\n",
       "      <td>1</td>\n",
       "      <td>Brighton</td>\n",
       "      <td>4.6</td>\n",
       "      <td>4.6</td>\n",
       "      <td>0.00</td>\n",
       "      <td>0</td>\n",
       "      <td>0</td>\n",
       "      <td>0</td>\n",
       "      <td>0</td>\n",
       "      <td>0</td>\n",
       "      <td>0</td>\n",
       "      <td>0</td>\n",
       "    </tr>\n",
       "    <tr>\n",
       "      <th>12</th>\n",
       "      <td>11</td>\n",
       "      <td>25</td>\n",
       "      <td>Ederson</td>\n",
       "      <td>GKP</td>\n",
       "      <td>1</td>\n",
       "      <td>Man City</td>\n",
       "      <td>5.4</td>\n",
       "      <td>5.4</td>\n",
       "      <td>4.27</td>\n",
       "      <td>89</td>\n",
       "      <td>0</td>\n",
       "      <td>-1</td>\n",
       "      <td>0</td>\n",
       "      <td>0</td>\n",
       "      <td>0</td>\n",
       "      <td>1</td>\n",
       "    </tr>\n",
       "    <tr>\n",
       "      <th>13</th>\n",
       "      <td>14</td>\n",
       "      <td>25</td>\n",
       "      <td>Shaw</td>\n",
       "      <td>DEF</td>\n",
       "      <td>2</td>\n",
       "      <td>Man Utd</td>\n",
       "      <td>5.3</td>\n",
       "      <td>5.0</td>\n",
       "      <td>0.00</td>\n",
       "      <td>0</td>\n",
       "      <td>0</td>\n",
       "      <td>2</td>\n",
       "      <td>0</td>\n",
       "      <td>0</td>\n",
       "      <td>0</td>\n",
       "      <td>0</td>\n",
       "    </tr>\n",
       "    <tr>\n",
       "      <th>14</th>\n",
       "      <td>17</td>\n",
       "      <td>25</td>\n",
       "      <td>Trippier</td>\n",
       "      <td>DEF</td>\n",
       "      <td>2</td>\n",
       "      <td>Newcastle</td>\n",
       "      <td>6.0</td>\n",
       "      <td>6.0</td>\n",
       "      <td>0.00</td>\n",
       "      <td>0</td>\n",
       "      <td>0</td>\n",
       "      <td>3</td>\n",
       "      <td>0</td>\n",
       "      <td>0</td>\n",
       "      <td>0</td>\n",
       "      <td>0</td>\n",
       "    </tr>\n",
       "    <tr>\n",
       "      <th>15</th>\n",
       "      <td>4</td>\n",
       "      <td>25</td>\n",
       "      <td>Mitoma</td>\n",
       "      <td>MID</td>\n",
       "      <td>3</td>\n",
       "      <td>Brighton</td>\n",
       "      <td>5.4</td>\n",
       "      <td>5.2</td>\n",
       "      <td>0.00</td>\n",
       "      <td>0</td>\n",
       "      <td>0</td>\n",
       "      <td>1</td>\n",
       "      <td>0</td>\n",
       "      <td>0</td>\n",
       "      <td>0</td>\n",
       "      <td>0</td>\n",
       "    </tr>\n",
       "  </tbody>\n",
       "</table>\n",
       "</div>"
      ],
      "text/plain": [
       "    Unnamed: 0  week              name  pos  type       team  buy_price  \\\n",
       "0            5    25          Pickford  GKP     1    Everton        4.4   \n",
       "1           12    25               Aké  DEF     2   Man City        5.1   \n",
       "2            2    25           Gabriel  DEF     2    Arsenal        5.2   \n",
       "3            9    25  Alexander-Arnold  DEF     2  Liverpool        7.3   \n",
       "4            7    25           Andreas  MID     3     Fulham        4.4   \n",
       "5            6    25            McNeil  MID     3    Everton        5.1   \n",
       "6            1    25              Saka  MID     3    Arsenal        8.4   \n",
       "7            8    25             Salah  MID     3  Liverpool       12.7   \n",
       "8           13    25           Haaland  FWD     4   Man City       12.2   \n",
       "9           10    25            Darwin  FWD     4  Liverpool        8.7   \n",
       "10           0    25           Nketiah  FWD     4    Arsenal        6.8   \n",
       "11           3    25           Sánchez  GKP     1   Brighton        4.6   \n",
       "12          11    25           Ederson  GKP     1   Man City        5.4   \n",
       "13          14    25              Shaw  DEF     2    Man Utd        5.3   \n",
       "14          17    25          Trippier  DEF     2  Newcastle        6.0   \n",
       "15           4    25            Mitoma  MID     3   Brighton        5.4   \n",
       "\n",
       "    sell_price     xP  xMin  lineup  bench  captain  vicecaptain  transfer_in  \\\n",
       "0          4.4   7.02    89       1     -1        0            0            1   \n",
       "1          5.0   3.07    58       1     -1        0            0            0   \n",
       "2          5.2   8.66    84       1     -1        0            0            0   \n",
       "3          7.2   9.91    86       1     -1        0            0            0   \n",
       "4          4.4   3.90    80       1     -1        0            0            0   \n",
       "5          5.1   5.73    71       1     -1        0            0            1   \n",
       "6          8.2  11.45    84       1     -1        0            1            0   \n",
       "7         12.7  12.47    84       1     -1        1            0            1   \n",
       "8         11.9   6.93    77       1     -1        0            0            0   \n",
       "9          8.7   9.17    64       1     -1        0            0            0   \n",
       "10         6.8   9.84    79       1     -1        0            0            0   \n",
       "11         4.6   0.00     0       0      0        0            0            0   \n",
       "12         5.4   4.27    89       0     -1        0            0            0   \n",
       "13         5.0   0.00     0       0      2        0            0            0   \n",
       "14         6.0   0.00     0       0      3        0            0            0   \n",
       "15         5.2   0.00     0       0      1        0            0            0   \n",
       "\n",
       "    transfer_out  \n",
       "0              0  \n",
       "1              0  \n",
       "2              0  \n",
       "3              0  \n",
       "4              0  \n",
       "5              0  \n",
       "6              0  \n",
       "7              0  \n",
       "8              0  \n",
       "9              0  \n",
       "10             0  \n",
       "11             0  \n",
       "12             1  \n",
       "13             0  \n",
       "14             0  \n",
       "15             0  "
      ]
     },
     "execution_count": 289,
     "metadata": {},
     "output_type": "execute_result"
    }
   ],
   "source": [
    "latest_optimal_plan_data.head(16)"
   ]
  },
  {
   "cell_type": "code",
   "execution_count": 290,
   "metadata": {},
   "outputs": [
    {
     "data": {
      "text/html": [
       "<div>\n",
       "<style scoped>\n",
       "    .dataframe tbody tr th:only-of-type {\n",
       "        vertical-align: middle;\n",
       "    }\n",
       "\n",
       "    .dataframe tbody tr th {\n",
       "        vertical-align: top;\n",
       "    }\n",
       "\n",
       "    .dataframe thead th {\n",
       "        text-align: right;\n",
       "    }\n",
       "</style>\n",
       "<table border=\"1\" class=\"dataframe\">\n",
       "  <thead>\n",
       "    <tr style=\"text-align: right;\">\n",
       "      <th></th>\n",
       "      <th>Unnamed: 0</th>\n",
       "      <th>week</th>\n",
       "      <th>name</th>\n",
       "      <th>pos</th>\n",
       "      <th>type</th>\n",
       "      <th>team</th>\n",
       "      <th>buy_price</th>\n",
       "      <th>sell_price</th>\n",
       "      <th>xP</th>\n",
       "      <th>xMin</th>\n",
       "      <th>lineup</th>\n",
       "      <th>bench</th>\n",
       "      <th>captain</th>\n",
       "      <th>vicecaptain</th>\n",
       "      <th>transfer_in</th>\n",
       "      <th>transfer_out</th>\n",
       "    </tr>\n",
       "  </thead>\n",
       "  <tbody>\n",
       "    <tr>\n",
       "      <th>0</th>\n",
       "      <td>5</td>\n",
       "      <td>25</td>\n",
       "      <td>Pickford</td>\n",
       "      <td>GKP</td>\n",
       "      <td>1</td>\n",
       "      <td>Everton</td>\n",
       "      <td>4.4</td>\n",
       "      <td>4.4</td>\n",
       "      <td>7.02</td>\n",
       "      <td>89</td>\n",
       "      <td>1</td>\n",
       "      <td>-1</td>\n",
       "      <td>0</td>\n",
       "      <td>0</td>\n",
       "      <td>1</td>\n",
       "      <td>0</td>\n",
       "    </tr>\n",
       "    <tr>\n",
       "      <th>1</th>\n",
       "      <td>12</td>\n",
       "      <td>25</td>\n",
       "      <td>Aké</td>\n",
       "      <td>DEF</td>\n",
       "      <td>2</td>\n",
       "      <td>Man City</td>\n",
       "      <td>5.1</td>\n",
       "      <td>5.0</td>\n",
       "      <td>3.07</td>\n",
       "      <td>58</td>\n",
       "      <td>1</td>\n",
       "      <td>-1</td>\n",
       "      <td>0</td>\n",
       "      <td>0</td>\n",
       "      <td>0</td>\n",
       "      <td>0</td>\n",
       "    </tr>\n",
       "    <tr>\n",
       "      <th>2</th>\n",
       "      <td>2</td>\n",
       "      <td>25</td>\n",
       "      <td>Gabriel</td>\n",
       "      <td>DEF</td>\n",
       "      <td>2</td>\n",
       "      <td>Arsenal</td>\n",
       "      <td>5.2</td>\n",
       "      <td>5.2</td>\n",
       "      <td>8.66</td>\n",
       "      <td>84</td>\n",
       "      <td>1</td>\n",
       "      <td>-1</td>\n",
       "      <td>0</td>\n",
       "      <td>0</td>\n",
       "      <td>0</td>\n",
       "      <td>0</td>\n",
       "    </tr>\n",
       "    <tr>\n",
       "      <th>3</th>\n",
       "      <td>9</td>\n",
       "      <td>25</td>\n",
       "      <td>Alexander-Arnold</td>\n",
       "      <td>DEF</td>\n",
       "      <td>2</td>\n",
       "      <td>Liverpool</td>\n",
       "      <td>7.3</td>\n",
       "      <td>7.2</td>\n",
       "      <td>9.91</td>\n",
       "      <td>86</td>\n",
       "      <td>1</td>\n",
       "      <td>-1</td>\n",
       "      <td>0</td>\n",
       "      <td>0</td>\n",
       "      <td>0</td>\n",
       "      <td>0</td>\n",
       "    </tr>\n",
       "    <tr>\n",
       "      <th>4</th>\n",
       "      <td>7</td>\n",
       "      <td>25</td>\n",
       "      <td>Andreas</td>\n",
       "      <td>MID</td>\n",
       "      <td>3</td>\n",
       "      <td>Fulham</td>\n",
       "      <td>4.4</td>\n",
       "      <td>4.4</td>\n",
       "      <td>3.90</td>\n",
       "      <td>80</td>\n",
       "      <td>1</td>\n",
       "      <td>-1</td>\n",
       "      <td>0</td>\n",
       "      <td>0</td>\n",
       "      <td>0</td>\n",
       "      <td>0</td>\n",
       "    </tr>\n",
       "    <tr>\n",
       "      <th>5</th>\n",
       "      <td>6</td>\n",
       "      <td>25</td>\n",
       "      <td>McNeil</td>\n",
       "      <td>MID</td>\n",
       "      <td>3</td>\n",
       "      <td>Everton</td>\n",
       "      <td>5.1</td>\n",
       "      <td>5.1</td>\n",
       "      <td>5.73</td>\n",
       "      <td>71</td>\n",
       "      <td>1</td>\n",
       "      <td>-1</td>\n",
       "      <td>0</td>\n",
       "      <td>0</td>\n",
       "      <td>1</td>\n",
       "      <td>0</td>\n",
       "    </tr>\n",
       "    <tr>\n",
       "      <th>6</th>\n",
       "      <td>1</td>\n",
       "      <td>25</td>\n",
       "      <td>Saka</td>\n",
       "      <td>MID</td>\n",
       "      <td>3</td>\n",
       "      <td>Arsenal</td>\n",
       "      <td>8.4</td>\n",
       "      <td>8.2</td>\n",
       "      <td>11.45</td>\n",
       "      <td>84</td>\n",
       "      <td>1</td>\n",
       "      <td>-1</td>\n",
       "      <td>0</td>\n",
       "      <td>1</td>\n",
       "      <td>0</td>\n",
       "      <td>0</td>\n",
       "    </tr>\n",
       "    <tr>\n",
       "      <th>7</th>\n",
       "      <td>8</td>\n",
       "      <td>25</td>\n",
       "      <td>Salah</td>\n",
       "      <td>MID</td>\n",
       "      <td>3</td>\n",
       "      <td>Liverpool</td>\n",
       "      <td>12.7</td>\n",
       "      <td>12.7</td>\n",
       "      <td>12.47</td>\n",
       "      <td>84</td>\n",
       "      <td>1</td>\n",
       "      <td>-1</td>\n",
       "      <td>1</td>\n",
       "      <td>0</td>\n",
       "      <td>1</td>\n",
       "      <td>0</td>\n",
       "    </tr>\n",
       "    <tr>\n",
       "      <th>8</th>\n",
       "      <td>13</td>\n",
       "      <td>25</td>\n",
       "      <td>Haaland</td>\n",
       "      <td>FWD</td>\n",
       "      <td>4</td>\n",
       "      <td>Man City</td>\n",
       "      <td>12.2</td>\n",
       "      <td>11.9</td>\n",
       "      <td>6.93</td>\n",
       "      <td>77</td>\n",
       "      <td>1</td>\n",
       "      <td>-1</td>\n",
       "      <td>0</td>\n",
       "      <td>0</td>\n",
       "      <td>0</td>\n",
       "      <td>0</td>\n",
       "    </tr>\n",
       "    <tr>\n",
       "      <th>9</th>\n",
       "      <td>10</td>\n",
       "      <td>25</td>\n",
       "      <td>Darwin</td>\n",
       "      <td>FWD</td>\n",
       "      <td>4</td>\n",
       "      <td>Liverpool</td>\n",
       "      <td>8.7</td>\n",
       "      <td>8.7</td>\n",
       "      <td>9.17</td>\n",
       "      <td>64</td>\n",
       "      <td>1</td>\n",
       "      <td>-1</td>\n",
       "      <td>0</td>\n",
       "      <td>0</td>\n",
       "      <td>0</td>\n",
       "      <td>0</td>\n",
       "    </tr>\n",
       "    <tr>\n",
       "      <th>10</th>\n",
       "      <td>0</td>\n",
       "      <td>25</td>\n",
       "      <td>Nketiah</td>\n",
       "      <td>FWD</td>\n",
       "      <td>4</td>\n",
       "      <td>Arsenal</td>\n",
       "      <td>6.8</td>\n",
       "      <td>6.8</td>\n",
       "      <td>9.84</td>\n",
       "      <td>79</td>\n",
       "      <td>1</td>\n",
       "      <td>-1</td>\n",
       "      <td>0</td>\n",
       "      <td>0</td>\n",
       "      <td>0</td>\n",
       "      <td>0</td>\n",
       "    </tr>\n",
       "    <tr>\n",
       "      <th>11</th>\n",
       "      <td>3</td>\n",
       "      <td>25</td>\n",
       "      <td>Sánchez</td>\n",
       "      <td>GKP</td>\n",
       "      <td>1</td>\n",
       "      <td>Brighton</td>\n",
       "      <td>4.6</td>\n",
       "      <td>4.6</td>\n",
       "      <td>0.00</td>\n",
       "      <td>0</td>\n",
       "      <td>0</td>\n",
       "      <td>0</td>\n",
       "      <td>0</td>\n",
       "      <td>0</td>\n",
       "      <td>0</td>\n",
       "      <td>0</td>\n",
       "    </tr>\n",
       "    <tr>\n",
       "      <th>12</th>\n",
       "      <td>11</td>\n",
       "      <td>25</td>\n",
       "      <td>Ederson</td>\n",
       "      <td>GKP</td>\n",
       "      <td>1</td>\n",
       "      <td>Man City</td>\n",
       "      <td>5.4</td>\n",
       "      <td>5.4</td>\n",
       "      <td>4.27</td>\n",
       "      <td>89</td>\n",
       "      <td>0</td>\n",
       "      <td>-1</td>\n",
       "      <td>0</td>\n",
       "      <td>0</td>\n",
       "      <td>0</td>\n",
       "      <td>1</td>\n",
       "    </tr>\n",
       "    <tr>\n",
       "      <th>13</th>\n",
       "      <td>14</td>\n",
       "      <td>25</td>\n",
       "      <td>Shaw</td>\n",
       "      <td>DEF</td>\n",
       "      <td>2</td>\n",
       "      <td>Man Utd</td>\n",
       "      <td>5.3</td>\n",
       "      <td>5.0</td>\n",
       "      <td>0.00</td>\n",
       "      <td>0</td>\n",
       "      <td>0</td>\n",
       "      <td>2</td>\n",
       "      <td>0</td>\n",
       "      <td>0</td>\n",
       "      <td>0</td>\n",
       "      <td>0</td>\n",
       "    </tr>\n",
       "    <tr>\n",
       "      <th>14</th>\n",
       "      <td>17</td>\n",
       "      <td>25</td>\n",
       "      <td>Trippier</td>\n",
       "      <td>DEF</td>\n",
       "      <td>2</td>\n",
       "      <td>Newcastle</td>\n",
       "      <td>6.0</td>\n",
       "      <td>6.0</td>\n",
       "      <td>0.00</td>\n",
       "      <td>0</td>\n",
       "      <td>0</td>\n",
       "      <td>3</td>\n",
       "      <td>0</td>\n",
       "      <td>0</td>\n",
       "      <td>0</td>\n",
       "      <td>0</td>\n",
       "    </tr>\n",
       "    <tr>\n",
       "      <th>15</th>\n",
       "      <td>4</td>\n",
       "      <td>25</td>\n",
       "      <td>Mitoma</td>\n",
       "      <td>MID</td>\n",
       "      <td>3</td>\n",
       "      <td>Brighton</td>\n",
       "      <td>5.4</td>\n",
       "      <td>5.2</td>\n",
       "      <td>0.00</td>\n",
       "      <td>0</td>\n",
       "      <td>0</td>\n",
       "      <td>1</td>\n",
       "      <td>0</td>\n",
       "      <td>0</td>\n",
       "      <td>0</td>\n",
       "      <td>0</td>\n",
       "    </tr>\n",
       "  </tbody>\n",
       "</table>\n",
       "</div>"
      ],
      "text/plain": [
       "    Unnamed: 0  week              name  pos  type       team  buy_price  \\\n",
       "0            5    25          Pickford  GKP     1    Everton        4.4   \n",
       "1           12    25               Aké  DEF     2   Man City        5.1   \n",
       "2            2    25           Gabriel  DEF     2    Arsenal        5.2   \n",
       "3            9    25  Alexander-Arnold  DEF     2  Liverpool        7.3   \n",
       "4            7    25           Andreas  MID     3     Fulham        4.4   \n",
       "5            6    25            McNeil  MID     3    Everton        5.1   \n",
       "6            1    25              Saka  MID     3    Arsenal        8.4   \n",
       "7            8    25             Salah  MID     3  Liverpool       12.7   \n",
       "8           13    25           Haaland  FWD     4   Man City       12.2   \n",
       "9           10    25            Darwin  FWD     4  Liverpool        8.7   \n",
       "10           0    25           Nketiah  FWD     4    Arsenal        6.8   \n",
       "11           3    25           Sánchez  GKP     1   Brighton        4.6   \n",
       "12          11    25           Ederson  GKP     1   Man City        5.4   \n",
       "13          14    25              Shaw  DEF     2    Man Utd        5.3   \n",
       "14          17    25          Trippier  DEF     2  Newcastle        6.0   \n",
       "15           4    25            Mitoma  MID     3   Brighton        5.4   \n",
       "\n",
       "    sell_price     xP  xMin  lineup  bench  captain  vicecaptain  transfer_in  \\\n",
       "0          4.4   7.02    89       1     -1        0            0            1   \n",
       "1          5.0   3.07    58       1     -1        0            0            0   \n",
       "2          5.2   8.66    84       1     -1        0            0            0   \n",
       "3          7.2   9.91    86       1     -1        0            0            0   \n",
       "4          4.4   3.90    80       1     -1        0            0            0   \n",
       "5          5.1   5.73    71       1     -1        0            0            1   \n",
       "6          8.2  11.45    84       1     -1        0            1            0   \n",
       "7         12.7  12.47    84       1     -1        1            0            1   \n",
       "8         11.9   6.93    77       1     -1        0            0            0   \n",
       "9          8.7   9.17    64       1     -1        0            0            0   \n",
       "10         6.8   9.84    79       1     -1        0            0            0   \n",
       "11         4.6   0.00     0       0      0        0            0            0   \n",
       "12         5.4   4.27    89       0     -1        0            0            0   \n",
       "13         5.0   0.00     0       0      2        0            0            0   \n",
       "14         6.0   0.00     0       0      3        0            0            0   \n",
       "15         5.2   0.00     0       0      1        0            0            0   \n",
       "\n",
       "    transfer_out  \n",
       "0              0  \n",
       "1              0  \n",
       "2              0  \n",
       "3              0  \n",
       "4              0  \n",
       "5              0  \n",
       "6              0  \n",
       "7              0  \n",
       "8              0  \n",
       "9              0  \n",
       "10             0  \n",
       "11             0  \n",
       "12             1  \n",
       "13             0  \n",
       "14             0  \n",
       "15             0  "
      ]
     },
     "execution_count": 290,
     "metadata": {},
     "output_type": "execute_result"
    }
   ],
   "source": [
    "# def start_ellever(next_gw, data):\n",
    "#         next_gw= data.loc[(data[\"week\"]==next_gw)& (data['lineup']== 1) &]\n",
    "#         return next_gw\n",
    "\n",
    "\n",
    "_#gw17_start_players = latest_optimal_plan_data.loc[(latest_optimal_plan_data['week']==17) & (latest_optimal_plan_data['lineup']== 1)]\n",
    "\n",
    "\n",
    "# # sns.barplot(data=gw17_start_players, x=\"xP\", y=\"name\")\n",
    "# sns.set_theme(style=\"whitegrid\", palette=\"pastel\")\n",
    "\n",
    "# # # Initialize the matplotlib figure\n",
    "# f, ax = plt.subplots(figsize=(20, 5))\n",
    "\n",
    "\n",
    "            \n",
    "# sns.set_color_codes(\"dark\")\n",
    "# sns.barplot(x=\"xP\", y=\"name\", data=gw17_start_players.sort_values(\"xP\", ascending=False),label=\"xP startspillere\", color=\"b\")   \n",
    "\n",
    "\n",
    "\n",
    "\n",
    "\n",
    "           \n",
    "\n",
    "# # Add a legend and informative axis label\n",
    "# ax.legend(ncol=1, loc=\"lower right\", frameon=True)\n",
    "# # ax.set(xlim=) her setter jeg størrelsen på figure. Aksen går her fra 0 til 100\n",
    "# ax.set(xlim=(0, 10),  ylabel= \"\", xlabel=\"xP startspillere\")\n",
    "# sns.despine(left=True, bottom=False)\n",
    "\n",
    "# # # label each bar in barplot https://medium.com/swlh/quick-guide-to-labelling-data-for-common-seaborn-plots-736e10bf14a9\n",
    "# for p in ax.patches: \n",
    "#         height = p.get_height() # height of each horizontal bar is the same\n",
    "#         width = p.get_width() # width \n",
    "#         # adding text to each bar\n",
    "#         ax.text(x = width+0.1, # x-coordinate position of data label, padded 1 to right of bar\n",
    "#         y = p.get_y()+(height/2), # # y-coordinate position of data label, padded to be in the middle of the bar\n",
    "#         s = \"{:.0f}\".format(width), # data label, formatted to ignore decimals\n",
    "#         va = \"center\") # sets vertical alignment (va) to center"
   ]
  },
  {
   "cell_type": "code",
   "execution_count": 291,
   "metadata": {},
   "outputs": [],
   "source": [
    "# sns.set_theme(style=\"white\", palette=\"pastel\")\n",
    "\n",
    "# sns.lineplot(data=latest_optimal_plan_data.groupby(\"week\").sum(numeric_only=True), x=\"week\", y=\"xP\")\n",
    "\n",
    "xP =[]\n",
    "for i in range(1,25):\n",
    "    xP.append(0)\n",
    "\n",
    "\n"
   ]
  },
  {
   "cell_type": "code",
   "execution_count": 292,
   "metadata": {},
   "outputs": [
    {
     "data": {
      "text/plain": [
       "70"
      ]
     },
     "execution_count": 292,
     "metadata": {},
     "output_type": "execute_result"
    }
   ],
   "source": [
    "team_id = \"2821496\"\n",
    "current_week = \"19\"\n",
    "url = \"https://fantasy.premierleague.com/api/entry/\"+team_id+\"/event/\"+current_week+\"/picks/\"\n",
    "my_team_data = requests.get(url)\n",
    "my_team_data = my_team_data.json()\n",
    "my_team_data[\"entry_history\"][\"points\"]\n",
    "\n",
    "\n",
    "\n"
   ]
  },
  {
   "cell_type": "code",
   "execution_count": 293,
   "metadata": {},
   "outputs": [],
   "source": [
    "points=[]\n",
    "Week=[]\n",
    "def get_team_points(week, id):\n",
    "    team_id = id\n",
    "    current_week = str(week)\n",
    "    url = \"https://fantasy.premierleague.com/api/entry/\"+team_id+\"/event/\"+current_week+\"/picks/\"\n",
    "    my_team_data = requests.get(url)\n",
    "    my_team_data = my_team_data.json()\n",
    "    Week.append(current_week)\n",
    "    points.append(my_team_data[\"entry_history\"][\"points\"])"
   ]
  },
  {
   "cell_type": "code",
   "execution_count": 294,
   "metadata": {},
   "outputs": [],
   "source": [
    "for i in range(1,25):\n",
    "    get_team_points(i, \"2821496\")"
   ]
  },
  {
   "cell_type": "code",
   "execution_count": 295,
   "metadata": {},
   "outputs": [
    {
     "name": "stdout",
     "output_type": "stream",
     "text": [
      "[67, 79, 44, 83, 79, 40, 0, 66, 78, 58, 59, 54, 71, 43, 57, 63, 83, 58, 70, 52, 75, 92, 96, 67]\n",
      "['1', '2', '3', '4', '5', '6', '7', '8', '9', '10', '11', '12', '13', '14', '15', '16', '17', '18', '19', '20', '21', '22', '23', '24']\n"
     ]
    }
   ],
   "source": [
    "print(points)\n",
    "print(Week)\n",
    "faktiske_poeng={\"Uke\":Week, \"Poeng\":points}"
   ]
  },
  {
   "cell_type": "code",
   "execution_count": 296,
   "metadata": {},
   "outputs": [
    {
     "data": {
      "text/html": [
       "<div>\n",
       "<style scoped>\n",
       "    .dataframe tbody tr th:only-of-type {\n",
       "        vertical-align: middle;\n",
       "    }\n",
       "\n",
       "    .dataframe tbody tr th {\n",
       "        vertical-align: top;\n",
       "    }\n",
       "\n",
       "    .dataframe thead th {\n",
       "        text-align: right;\n",
       "    }\n",
       "</style>\n",
       "<table border=\"1\" class=\"dataframe\">\n",
       "  <thead>\n",
       "    <tr style=\"text-align: right;\">\n",
       "      <th></th>\n",
       "      <th>Uke</th>\n",
       "      <th>Poeng</th>\n",
       "      <th>xP</th>\n",
       "    </tr>\n",
       "  </thead>\n",
       "  <tbody>\n",
       "    <tr>\n",
       "      <th>0</th>\n",
       "      <td>1</td>\n",
       "      <td>67</td>\n",
       "      <td>0</td>\n",
       "    </tr>\n",
       "    <tr>\n",
       "      <th>1</th>\n",
       "      <td>2</td>\n",
       "      <td>79</td>\n",
       "      <td>0</td>\n",
       "    </tr>\n",
       "    <tr>\n",
       "      <th>2</th>\n",
       "      <td>3</td>\n",
       "      <td>44</td>\n",
       "      <td>0</td>\n",
       "    </tr>\n",
       "    <tr>\n",
       "      <th>3</th>\n",
       "      <td>4</td>\n",
       "      <td>83</td>\n",
       "      <td>0</td>\n",
       "    </tr>\n",
       "    <tr>\n",
       "      <th>4</th>\n",
       "      <td>5</td>\n",
       "      <td>79</td>\n",
       "      <td>0</td>\n",
       "    </tr>\n",
       "    <tr>\n",
       "      <th>5</th>\n",
       "      <td>6</td>\n",
       "      <td>40</td>\n",
       "      <td>0</td>\n",
       "    </tr>\n",
       "    <tr>\n",
       "      <th>6</th>\n",
       "      <td>7</td>\n",
       "      <td>0</td>\n",
       "      <td>0</td>\n",
       "    </tr>\n",
       "    <tr>\n",
       "      <th>7</th>\n",
       "      <td>8</td>\n",
       "      <td>66</td>\n",
       "      <td>0</td>\n",
       "    </tr>\n",
       "    <tr>\n",
       "      <th>8</th>\n",
       "      <td>9</td>\n",
       "      <td>78</td>\n",
       "      <td>0</td>\n",
       "    </tr>\n",
       "    <tr>\n",
       "      <th>9</th>\n",
       "      <td>10</td>\n",
       "      <td>58</td>\n",
       "      <td>0</td>\n",
       "    </tr>\n",
       "    <tr>\n",
       "      <th>10</th>\n",
       "      <td>11</td>\n",
       "      <td>59</td>\n",
       "      <td>0</td>\n",
       "    </tr>\n",
       "    <tr>\n",
       "      <th>11</th>\n",
       "      <td>12</td>\n",
       "      <td>54</td>\n",
       "      <td>0</td>\n",
       "    </tr>\n",
       "    <tr>\n",
       "      <th>12</th>\n",
       "      <td>13</td>\n",
       "      <td>71</td>\n",
       "      <td>0</td>\n",
       "    </tr>\n",
       "    <tr>\n",
       "      <th>13</th>\n",
       "      <td>14</td>\n",
       "      <td>43</td>\n",
       "      <td>0</td>\n",
       "    </tr>\n",
       "    <tr>\n",
       "      <th>14</th>\n",
       "      <td>15</td>\n",
       "      <td>57</td>\n",
       "      <td>0</td>\n",
       "    </tr>\n",
       "    <tr>\n",
       "      <th>15</th>\n",
       "      <td>16</td>\n",
       "      <td>63</td>\n",
       "      <td>0</td>\n",
       "    </tr>\n",
       "    <tr>\n",
       "      <th>16</th>\n",
       "      <td>17</td>\n",
       "      <td>83</td>\n",
       "      <td>62</td>\n",
       "    </tr>\n",
       "    <tr>\n",
       "      <th>17</th>\n",
       "      <td>18</td>\n",
       "      <td>58</td>\n",
       "      <td>0</td>\n",
       "    </tr>\n",
       "    <tr>\n",
       "      <th>18</th>\n",
       "      <td>19</td>\n",
       "      <td>70</td>\n",
       "      <td>70</td>\n",
       "    </tr>\n",
       "    <tr>\n",
       "      <th>19</th>\n",
       "      <td>20</td>\n",
       "      <td>52</td>\n",
       "      <td>77</td>\n",
       "    </tr>\n",
       "    <tr>\n",
       "      <th>20</th>\n",
       "      <td>21</td>\n",
       "      <td>75</td>\n",
       "      <td>55</td>\n",
       "    </tr>\n",
       "    <tr>\n",
       "      <th>21</th>\n",
       "      <td>22</td>\n",
       "      <td>92</td>\n",
       "      <td>100</td>\n",
       "    </tr>\n",
       "    <tr>\n",
       "      <th>22</th>\n",
       "      <td>23</td>\n",
       "      <td>96</td>\n",
       "      <td>107</td>\n",
       "    </tr>\n",
       "    <tr>\n",
       "      <th>23</th>\n",
       "      <td>24</td>\n",
       "      <td>67</td>\n",
       "      <td>58</td>\n",
       "    </tr>\n",
       "  </tbody>\n",
       "</table>\n",
       "</div>"
      ],
      "text/plain": [
       "   Uke  Poeng   xP\n",
       "0    1     67    0\n",
       "1    2     79    0\n",
       "2    3     44    0\n",
       "3    4     83    0\n",
       "4    5     79    0\n",
       "5    6     40    0\n",
       "6    7      0    0\n",
       "7    8     66    0\n",
       "8    9     78    0\n",
       "9   10     58    0\n",
       "10  11     59    0\n",
       "11  12     54    0\n",
       "12  13     71    0\n",
       "13  14     43    0\n",
       "14  15     57    0\n",
       "15  16     63    0\n",
       "16  17     83   62\n",
       "17  18     58    0\n",
       "18  19     70   70\n",
       "19  20     52   77\n",
       "20  21     75   55\n",
       "21  22     92  100\n",
       "22  23     96  107\n",
       "23  24     67   58"
      ]
     },
     "execution_count": 296,
     "metadata": {},
     "output_type": "execute_result"
    }
   ],
   "source": [
    "df_poeng_xP = pd.DataFrame(faktiske_poeng)\n",
    "df_poeng_xP.set_index(\"Uke\", inplace=False)\n",
    "df_poeng_xP[\"xP\"]= xP\n",
    "df_poeng_xP.to_csv(\"../output/Poengsammendrag\")\n",
    "\n",
    "df_poeng_xP.at[16,'xP']=62\n",
    "df_poeng_xP.at[18,'xP']=70\n",
    "df_poeng_xP.at[19,'xP']=77\n",
    "df_poeng_xP.at[20,'xP']=55\n",
    "df_poeng_xP.at[21,'xP']=100\n",
    "df_poeng_xP.at[22,'xP']=107\n",
    "df_poeng_xP.at[23,'xP']=58\n",
    "df_poeng_xP\n"
   ]
  },
  {
   "cell_type": "code",
   "execution_count": 297,
   "metadata": {},
   "outputs": [],
   "source": [
    "# sns.set_theme(style=\"white\", palette=\"pastel\")\n",
    "\n",
    "# # sns.lineplot(data=df_poeng_xP, x=\"Uke\", y=\"Poeng\")\n",
    "\n",
    "# # Add a legend and informative axis label\n",
    "# ax.legend(ncol=1, loc=\"lower right\", frameon=True)\n",
    "# # ax.set(xlim=) her setter jeg størrelsen på figure. Aksen går her fra 0 til 100\n",
    "# ax.set(xlim=(0, 10),  ylabel= \"Poeng\", xlabel=\"xP startspillere\")\n",
    "\n",
    "# sns.despine(left=True, bottom=False)\n",
    "\n",
    "# # plot line graph\n",
    "# sns.set(rc={\"figure.figsize\":(10,10)})\n",
    "# ax = sns.lineplot(data=df_poeng_xP, x=\"Uke\", y=\"Poeng\" ,marker=\"*\", color=\"#965786\")\n",
    "# ax1 = sns.lineplot(data=df_poeng_xP, x=\"Uke\", y=\"xP\" ,marker=\"*\")\n",
    "# ax.set(title=\"Poeng for hver uke\")# label points on the plot\n",
    "# for x, y in zip(df_poeng_xP[\"Uke\"], df_poeng_xP[\"Poeng\"]):\n",
    "#  # the position of the data label relative to the data point can be adjusted by adding/subtracting a value from the x &/ y coordinates\n",
    "#         plt.text(x = x, # x-coordinate position of data label\n",
    "#         y = y, # y-coordinate position of data label, adjusted to be 150 below the data point\n",
    "#         s = \"{:.0f}\".format(y), # data label, formatted to ignore decimals\n",
    "#         color = \"purple\") # set colour of line\n",
    "# for x, y in zip(df_poeng_xP[\"Uke\"], df_poeng_xP[\"xP\"]):\n",
    "#  # the position of the data label relative to the data point can be adjusted by adding/subtracting a value from the x &/ y coordinates\n",
    "#         plt.text(x = x, # x-coordinate position of data label\n",
    "#         y = y, # y-coordinate position of data label, adjusted to be 150 below the data point\n",
    "#         s = \"{:.0f}\".format(y), # data label, formatted to ignore decimals\n",
    "#         color = \"purple\") # set colour of line"
   ]
  },
  {
   "cell_type": "code",
   "execution_count": 298,
   "metadata": {},
   "outputs": [],
   "source": [
    "# lage funksjoner som legger inn nye uker. https://pythonexamples.org/pandas-dataframe-add-append-row/"
   ]
  },
  {
   "cell_type": "code",
   "execution_count": null,
   "metadata": {},
   "outputs": [],
   "source": []
  },
  {
   "cell_type": "code",
   "execution_count": 299,
   "metadata": {},
   "outputs": [],
   "source": [
    "def points_without_cap (data, next_gw):\n",
    "    \"\"\"Gir summen av xP uten kapteinen, kan gjøres bedre etterhvert tenker jeg\"\"\"\n",
    "    return data.loc[(data[\"week\"]==next_gw)& (data['lineup']== 1) & (data[\"captain\"]!=1), [\"xP\"]].sum()"
   ]
  },
  {
   "cell_type": "code",
   "execution_count": 300,
   "metadata": {},
   "outputs": [],
   "source": [
    "def double_captain_points(data, next_gw):\n",
    "    \"\"\"Gir sum av kapteinens totalepoeng for gitte uke. Sett at dataframe inneholder week, xP og captain kolonner\"\"\"\n",
    "    data.loc[(data[\"captain\"] ==1) & (data[\"week\"]==next_gw), [\"xP\"]]*2\n",
    "    return data.loc[(data[\"captain\"] ==1) & (data[\"week\"]==next_gw), [\"xP\"]]*2"
   ]
  },
  {
   "cell_type": "code",
   "execution_count": 301,
   "metadata": {},
   "outputs": [],
   "source": [
    "\n",
    "def expected_points(data, next_gw):\n",
    "    \"\"\"Funksjon som bruker to andre funksjoner for å hente summen av xP for Next_gw i datasett\"\"\"\n",
    "    doubled_captain= double_captain_points(data, next_gw)\n",
    "    \n",
    "    expected_points= points_without_cap(data, next_gw)\n",
    "\n",
    "    return int(expected_points.sum() + doubled_captain.sum())"
   ]
  },
  {
   "cell_type": "code",
   "execution_count": 302,
   "metadata": {},
   "outputs": [
    {
     "data": {
      "text/plain": [
       "100"
      ]
     },
     "execution_count": 302,
     "metadata": {},
     "output_type": "execute_result"
    }
   ],
   "source": [
    "expected_points(latest_optimal_plan_data, 25)\n"
   ]
  },
  {
   "cell_type": "code",
   "execution_count": 303,
   "metadata": {},
   "outputs": [],
   "source": [
    "\n",
    "def add_new_row(data, gameweek):\n",
    "    \"\"\"Legger til ny row med data\"\"\"\n",
    "    # if (data['Uke'].eq(f'{gameweek}')).any() == False:\n",
    "    new_row = {'Uke':f\"{gameweek}\", 'Poeng':0, #get_team_points(gameweek, 2821496), \n",
    "    'xP':expected_points(latest_optimal_plan_data, gameweek)}\n",
    "    new_row2= pd.Series(new_row)\n",
    "    #append row to the dataframe\n",
    "    data.loc[len(data.index)] = new_row2\n",
    "    return data\n",
    "\n",
    "def get_team_points(week, id):\n",
    "    team_id = str(id)\n",
    "    current_week = str(week)\n",
    "    url = \"https://fantasy.premierleague.com/api/entry/\"+team_id+\"/event/\"+current_week+\"/picks/\"\n",
    "    my_team_data = requests.get(url)\n",
    "    my_team_data = my_team_data.json()\n",
    "    return my_team_data[\"entry_history\"][\"points\"]\n"
   ]
  },
  {
   "cell_type": "code",
   "execution_count": null,
   "metadata": {},
   "outputs": [],
   "source": []
  },
  {
   "cell_type": "code",
   "execution_count": null,
   "metadata": {},
   "outputs": [],
   "source": [
    "\n"
   ]
  },
  {
   "cell_type": "code",
   "execution_count": 304,
   "metadata": {},
   "outputs": [
    {
     "data": {
      "text/html": [
       "<div>\n",
       "<style scoped>\n",
       "    .dataframe tbody tr th:only-of-type {\n",
       "        vertical-align: middle;\n",
       "    }\n",
       "\n",
       "    .dataframe tbody tr th {\n",
       "        vertical-align: top;\n",
       "    }\n",
       "\n",
       "    .dataframe thead th {\n",
       "        text-align: right;\n",
       "    }\n",
       "</style>\n",
       "<table border=\"1\" class=\"dataframe\">\n",
       "  <thead>\n",
       "    <tr style=\"text-align: right;\">\n",
       "      <th></th>\n",
       "      <th>Uke</th>\n",
       "      <th>Poeng</th>\n",
       "      <th>xP</th>\n",
       "    </tr>\n",
       "  </thead>\n",
       "  <tbody>\n",
       "    <tr>\n",
       "      <th>0</th>\n",
       "      <td>1</td>\n",
       "      <td>67</td>\n",
       "      <td>0</td>\n",
       "    </tr>\n",
       "    <tr>\n",
       "      <th>1</th>\n",
       "      <td>2</td>\n",
       "      <td>79</td>\n",
       "      <td>0</td>\n",
       "    </tr>\n",
       "    <tr>\n",
       "      <th>2</th>\n",
       "      <td>3</td>\n",
       "      <td>44</td>\n",
       "      <td>0</td>\n",
       "    </tr>\n",
       "    <tr>\n",
       "      <th>3</th>\n",
       "      <td>4</td>\n",
       "      <td>83</td>\n",
       "      <td>0</td>\n",
       "    </tr>\n",
       "    <tr>\n",
       "      <th>4</th>\n",
       "      <td>5</td>\n",
       "      <td>79</td>\n",
       "      <td>0</td>\n",
       "    </tr>\n",
       "    <tr>\n",
       "      <th>5</th>\n",
       "      <td>6</td>\n",
       "      <td>40</td>\n",
       "      <td>0</td>\n",
       "    </tr>\n",
       "    <tr>\n",
       "      <th>6</th>\n",
       "      <td>7</td>\n",
       "      <td>0</td>\n",
       "      <td>0</td>\n",
       "    </tr>\n",
       "    <tr>\n",
       "      <th>7</th>\n",
       "      <td>8</td>\n",
       "      <td>66</td>\n",
       "      <td>0</td>\n",
       "    </tr>\n",
       "    <tr>\n",
       "      <th>8</th>\n",
       "      <td>9</td>\n",
       "      <td>78</td>\n",
       "      <td>0</td>\n",
       "    </tr>\n",
       "    <tr>\n",
       "      <th>9</th>\n",
       "      <td>10</td>\n",
       "      <td>58</td>\n",
       "      <td>0</td>\n",
       "    </tr>\n",
       "    <tr>\n",
       "      <th>10</th>\n",
       "      <td>11</td>\n",
       "      <td>59</td>\n",
       "      <td>0</td>\n",
       "    </tr>\n",
       "    <tr>\n",
       "      <th>11</th>\n",
       "      <td>12</td>\n",
       "      <td>54</td>\n",
       "      <td>0</td>\n",
       "    </tr>\n",
       "    <tr>\n",
       "      <th>12</th>\n",
       "      <td>13</td>\n",
       "      <td>71</td>\n",
       "      <td>0</td>\n",
       "    </tr>\n",
       "    <tr>\n",
       "      <th>13</th>\n",
       "      <td>14</td>\n",
       "      <td>43</td>\n",
       "      <td>0</td>\n",
       "    </tr>\n",
       "    <tr>\n",
       "      <th>14</th>\n",
       "      <td>15</td>\n",
       "      <td>57</td>\n",
       "      <td>0</td>\n",
       "    </tr>\n",
       "    <tr>\n",
       "      <th>15</th>\n",
       "      <td>16</td>\n",
       "      <td>63</td>\n",
       "      <td>0</td>\n",
       "    </tr>\n",
       "    <tr>\n",
       "      <th>16</th>\n",
       "      <td>17</td>\n",
       "      <td>83</td>\n",
       "      <td>62</td>\n",
       "    </tr>\n",
       "    <tr>\n",
       "      <th>17</th>\n",
       "      <td>18</td>\n",
       "      <td>58</td>\n",
       "      <td>0</td>\n",
       "    </tr>\n",
       "    <tr>\n",
       "      <th>18</th>\n",
       "      <td>19</td>\n",
       "      <td>70</td>\n",
       "      <td>70</td>\n",
       "    </tr>\n",
       "    <tr>\n",
       "      <th>19</th>\n",
       "      <td>20</td>\n",
       "      <td>52</td>\n",
       "      <td>77</td>\n",
       "    </tr>\n",
       "    <tr>\n",
       "      <th>20</th>\n",
       "      <td>21</td>\n",
       "      <td>75</td>\n",
       "      <td>55</td>\n",
       "    </tr>\n",
       "    <tr>\n",
       "      <th>21</th>\n",
       "      <td>22</td>\n",
       "      <td>92</td>\n",
       "      <td>100</td>\n",
       "    </tr>\n",
       "    <tr>\n",
       "      <th>22</th>\n",
       "      <td>23</td>\n",
       "      <td>96</td>\n",
       "      <td>107</td>\n",
       "    </tr>\n",
       "    <tr>\n",
       "      <th>23</th>\n",
       "      <td>24</td>\n",
       "      <td>67</td>\n",
       "      <td>58</td>\n",
       "    </tr>\n",
       "  </tbody>\n",
       "</table>\n",
       "</div>"
      ],
      "text/plain": [
       "   Uke  Poeng   xP\n",
       "0    1     67    0\n",
       "1    2     79    0\n",
       "2    3     44    0\n",
       "3    4     83    0\n",
       "4    5     79    0\n",
       "5    6     40    0\n",
       "6    7      0    0\n",
       "7    8     66    0\n",
       "8    9     78    0\n",
       "9   10     58    0\n",
       "10  11     59    0\n",
       "11  12     54    0\n",
       "12  13     71    0\n",
       "13  14     43    0\n",
       "14  15     57    0\n",
       "15  16     63    0\n",
       "16  17     83   62\n",
       "17  18     58    0\n",
       "18  19     70   70\n",
       "19  20     52   77\n",
       "20  21     75   55\n",
       "21  22     92  100\n",
       "22  23     96  107\n",
       "23  24     67   58"
      ]
     },
     "execution_count": 304,
     "metadata": {},
     "output_type": "execute_result"
    }
   ],
   "source": [
    "df_poeng_xP"
   ]
  },
  {
   "cell_type": "code",
   "execution_count": 305,
   "metadata": {},
   "outputs": [],
   "source": [
    "# def poeng_vs_expected_graf(data, gameweek):\n",
    "#     sns.set_theme(style=\"white\", palette=\"pastel\")\n",
    "#     f, ax = plt.subplots(figsize=(10, 8))\n",
    "#     sns.despine(left=True, bottom=False)\n",
    "#     ax = sns.lineplot(data=add_new_row(data, gameweek), x=\"Uke\", y=\"Poeng\", marker=\"o\", color=\"#28A745\", label=\"Faktisk poeng\")\n",
    "#     ax1 = sns.lineplot(data=add_new_row(data, gameweek), x=\"Uke\", y=\"xP\", marker=\"o\", color=\"#6CB2EB\", label=\"Forventet poeng\")\n",
    "#     ax.set(title=\"Poeng vs. forventet poeng for hver uke\", xlabel=\"Uke\", ylabel=\"Poeng\")\n",
    "#     ax.legend()\n",
    "#     for x, y in zip(add_new_row(data, gameweek)[\"Uke\"], add_new_row(data, gameweek)[\"Poeng\"]):\n",
    "#         plt.text(x=x, y=y, s=\"{:.0f}\".format(y), color=\"#28A745\")\n",
    "#     for x, y in zip(add_new_row(data, gameweek)[\"Uke\"], add_new_row(data, gameweek)[\"xP\"]):\n",
    "#         plt.text(x=x, y=y, s=\"{:.0f}\".format(y), color=\"#6CB2EB\")\n",
    "#     plt.tight_layout()\n",
    "#     plt.savefig('../output/chart.png')"
   ]
  },
  {
   "cell_type": "code",
   "execution_count": 306,
   "metadata": {},
   "outputs": [],
   "source": [
    "# poeng_vs_expected_graf(df_poeng_xP, 25)"
   ]
  },
  {
   "cell_type": "code",
   "execution_count": 307,
   "metadata": {},
   "outputs": [
    {
     "data": {
      "text/plain": [
       "63.916666666666664"
      ]
     },
     "execution_count": 307,
     "metadata": {},
     "output_type": "execute_result"
    }
   ],
   "source": [
    "poeng_mean = df_poeng_xP[\"Poeng\"].mean()\n",
    "    \n",
    "    # Calculate the mean of the \"xP\" column, excluding zero values\n",
    "xp_mean = df_poeng_xP[df_poeng_xP[\"xP\"] != 0][\"xP\"].mean()\n",
    "xp_mean\n",
    "poeng_mean"
   ]
  },
  {
   "cell_type": "code",
   "execution_count": 308,
   "metadata": {},
   "outputs": [],
   "source": [
    "# import plotly.graph_objs as go\n",
    "# import plotly.offline as pyo\n",
    "\n",
    "# def poeng_vs_expected_graf(data, gameweek):\n",
    "#     # Create a line plot using Plotly\n",
    "#     fig = go.Figure()\n",
    "#     fig.add_trace(go.Scatter(x=data[\"Uke\"], y=data[\"Poeng\"], mode=\"lines+markers\", name=\"Faktisk poeng\"))\n",
    "#     fig.add_trace(go.Scatter(x=data[\"Uke\"], y=data[\"xP\"], mode=\"lines+markers\", name=\"Forventet poeng\"))\n",
    "#     fig.update_layout(title=\"Poeng vs. forventet poeng for hver uke\", xaxis_title=\"Uke\", yaxis_title=\"Poeng\")\n",
    "    \n",
    "#     # Save the plot as an HTML file\n",
    "#     pyo.plot(fig, filename=\"../output/chart.html\", auto_open=False)\n",
    "\n",
    "\n",
    "# poeng_vs_expected_graf(df_poeng_xP, 25)\n",
    "\n",
    "\n",
    "# import plotly.graph_objs as go\n",
    "# import plotly.offline as pyo\n",
    "\n",
    "# def poeng_vs_expected_graf(data, gameweek):\n",
    "#     # Create a line plot using Plotly\n",
    "#     fig = go.Figure()\n",
    "#     fig.add_trace(go.Scatter(x=data[\"Uke\"], y=data[\"Poeng\"], mode=\"lines+markers\", name=\"Faktisk poeng\"))\n",
    "#     fig.add_trace(go.Scatter(x=data[\"Uke\"], y=data[\"xP\"], mode=\"lines+markers\", name=\"Forventet poeng\"))\n",
    "#     fig.update_layout(title=\"Poeng vs. forventet poeng for hver uke\", xaxis_title=\"Uke\", yaxis_title=\"Poeng\")\n",
    "    \n",
    "#     # Generate the HTML code for the plot\n",
    "#     plot_html = pyo.plot(fig, output_type='div')\n",
    "    \n",
    "#     # Return the HTML code as a string\n",
    "#     return plot_html\n",
    "\n",
    "\n",
    "import plotly.graph_objs as go\n",
    "import plotly.offline as pyo\n",
    "\n",
    "def poeng_vs_expected_graf(data, gameweek):\n",
    "    # Calculate the mean of the \"Poeng\" column\n",
    "    poeng_mean = data[data[\"Poeng\"] != 0][\"Poeng\"].mean()\n",
    "    \n",
    "    # Calculate the mean of the \"xP\" column, excluding zero values\n",
    "    xp_mean = data[data[\"xP\"] != 0][\"xP\"].mean()\n",
    "    \n",
    "    # Create a line plot using Plotly\n",
    "    fig = go.Figure()\n",
    "    fig.add_trace(go.Scatter(x=data[\"Uke\"], y=data[\"Poeng\"], mode=\"lines+markers\", name=\"Faktisk poeng\"))\n",
    "    fig.add_trace(go.Scatter(x=data[data[\"xP\"] != 0][\"Uke\"], y=data[data[\"xP\"] != 0][\"xP\"], mode=\"lines+markers\", name=\"Forventet poeng\"))\n",
    "    fig.add_shape(type=\"line\", x0=data[\"Uke\"].min(), y0=poeng_mean, x1=data[\"Uke\"].max(), y1=poeng_mean, line=dict(color=\"blue\", width=5, dash=\"dot\"), name=\"Gjennomsnitt faktisk poeng\")\n",
    "    fig.add_shape(type=\"line\", x0=data[\"Uke\"].min(), y0=xp_mean, x1=data[\"Uke\"].max(), y1=xp_mean, line=dict(color=\"red\", width=5, dash=\"dot\"), name=\"Gjennomsnitt forventet poeng\")\n",
    "    \n",
    "    fig.add_annotation(x=data[\"Uke\"].max(), y=poeng_mean, text=f\"Gjennomsnitt faktisk poeng: {poeng_mean:.2f}\", showarrow=False, font=dict(size=12, color=\"white\"), yshift=10)\n",
    "    fig.add_annotation(x=data[\"Uke\"].max(), y=xp_mean, text=f\"Gjennomsnitt forventet poeng: {xp_mean:.2f}\", showarrow=False, font=dict(size=12, color=\"white\"), yshift=10)\n",
    "    fig.update_layout(\n",
    "        title=\"Poeng vs. forventet poeng for hver uke\",\n",
    "        xaxis_title=\"Uke\",\n",
    "        yaxis_title=\"Poeng\",\n",
    "        legend=dict(\n",
    "            x=1.0,\n",
    "            y=1.0,\n",
    "            bgcolor=\"rgba(0, 0, 0, 0)\",\n",
    "            bordercolor=\"black\",\n",
    "            borderwidth=1,\n",
    "            font=dict(size=16)\n",
    "        ),\n",
    "        plot_bgcolor=\"rgb(240, 240, 240)\",\n",
    "        paper_bgcolor=\"rgb(240, 240, 240)\",\n",
    "\n",
    "        height=800,\n",
    "        font=dict(size=16)\n",
    "        ,\n",
    "        xaxis=dict(showgrid=False),\n",
    "        yaxis=dict(showgrid=False)\n",
    "    )\n",
    "    \n",
    "    # Generate the HTML code for the plot\n",
    "    plot_html = pyo.plot(fig, output_type='div')\n",
    "    \n",
    "    # Return the HTML code as a string\n",
    "    return plot_html\n",
    "\n"
   ]
  },
  {
   "cell_type": "code",
   "execution_count": 309,
   "metadata": {},
   "outputs": [],
   "source": [
    "def startlag(data, gameweek):\n",
    "   \"\"\"Henter startelleveren ut i fra optimal plan csv\"\"\"\n",
    "   startellever= data.loc[(data[\"week\"]==gameweek)& (data['lineup']== 1)]\n",
    "   startellever2 = startellever.drop([\"Unnamed: 0\",\"week\", \"type\", \"xMin\", \"bench\", \"transfer_in\", \"transfer_out\"], axis = 1)\n",
    "   startellever2.loc[startellever2[\"captain\"]==1, [\"xP\"]] *=2\n",
    "   return startellever2\n",
    "\n",
    "def benklag(data, gameweek):\n",
    "   benk = data.loc[(data[\"week\"]==gameweek)& (data['bench']>= 1)]\n",
    "   benk2 = benk.drop([\"Unnamed: 0\",\"week\", \"type\", \"xMin\", \"captain\", \"vicecaptain\",\"lineup\", \"transfer_in\", \"transfer_out\"], axis = 1)\n",
    "   \n",
    "   return benk2.sort_values(by=['bench'])\n",
    "\n",
    "# def transfer_in(data, gameweek):\n",
    "#    transferin= data.loc[(data[\"week\"]==gameweek)& (data['transfer_in']== 1), [\"name\",\"team\"]].values[0]\n",
    "#    return str(transferin)\n",
    "\n",
    "# def transfer_out(data, gameweek):\n",
    "#    transferout= data.loc[(data[\"week\"]==gameweek)& (data['transfer_out']== 1), [\"name\",\"team\"]].values[0]\n",
    "#    return str(transferout)\n",
    "\n",
    "# def transfer_in(data, gameweek):\n",
    "#    transferin = data.loc[(data[\"week\"]==gameweek) & (data['transfer_in']== 1), [\"name\",\"team\"]]\n",
    "#    return [f\"{x[0]} {x[1]}\" for x in transferin.values]\n",
    "\n",
    "# def transfer_out(data, gameweek):\n",
    "#    transferout = data.loc[(data[\"week\"]==gameweek) & (data['transfer_out']== 1), [\"name\",\"team\"]]\n",
    "#    return [f\"{x[0]} {x[1]}\" for x in transferout.values]\n",
    "\n",
    "def transfer_in(data, gameweek):\n",
    "   transferin = data.loc[(data[\"week\"]==gameweek) & (data['transfer_in']== 1), [\"name\",\"team\"]]\n",
    "   return [f\"{x[0]} ({x[1]})\" for x in transferin.values]\n",
    "\n",
    "def transfer_out(data, gameweek):\n",
    "   transferout = data.loc[(data[\"week\"]==gameweek) & (data['transfer_out']== 1), [\"name\",\"team\"]]\n",
    "   return [f\"{x[0]} ({x[1]})\" for x in transferout.values]\n",
    "\n"
   ]
  },
  {
   "cell_type": "code",
   "execution_count": 310,
   "metadata": {},
   "outputs": [
    {
     "data": {
      "text/plain": [
       "['Pickford (Everton)', 'McNeil (Everton)', 'Salah (Liverpool)']"
      ]
     },
     "execution_count": 310,
     "metadata": {},
     "output_type": "execute_result"
    }
   ],
   "source": [
    "transfer_in(latest_optimal_plan_data, 25)"
   ]
  },
  {
   "cell_type": "code",
   "execution_count": 311,
   "metadata": {},
   "outputs": [
    {
     "data": {
      "text/plain": [
       "name           0.0\n",
       "pos            0.0\n",
       "team           0.0\n",
       "buy_price      0.0\n",
       "sell_price     0.0\n",
       "xP             0.0\n",
       "lineup         0.0\n",
       "captain        0.0\n",
       "vicecaptain    0.0\n",
       "dtype: float64"
      ]
     },
     "execution_count": 311,
     "metadata": {},
     "output_type": "execute_result"
    }
   ],
   "source": [
    "startlag(latest_optimal_plan_data,23).sum()"
   ]
  },
  {
   "cell_type": "code",
   "execution_count": 312,
   "metadata": {},
   "outputs": [],
   "source": [
    "from openpyxl.chart import LineChart, Reference"
   ]
  },
  {
   "cell_type": "code",
   "execution_count": null,
   "metadata": {},
   "outputs": [],
   "source": []
  },
  {
   "cell_type": "code",
   "execution_count": 313,
   "metadata": {},
   "outputs": [],
   "source": [
    "def rapport(data, gameweek):\n",
    "    # 1. Set up multiple variables to store the titles, text within the report\n",
    "    page_title_text = 'FPL rapport'\n",
    "    title_text = 'Eiriks FPL rapport'\n",
    "    introtext = f'Hei, her er rapport for gameweek {gameweek}'\n",
    "    startlagtekst = 'Startlag: Legg merke til at kapteinen har doblet poeng i tabellen'\n",
    "    inntekst = 'bytt inn'\n",
    "    uttekst = \"bytt ut\"\n",
    "\n",
    "\n",
    "\n",
    "    transfer_in_list = transfer_in(data, gameweek)\n",
    "    transfer_out_list = transfer_out(data, gameweek)\n",
    "\n",
    "    if transfer_in_list or transfer_out_list:\n",
    "        bytter = \"<h2>Bytter:</h2>\\n\\n\"\n",
    "    if transfer_in_list:\n",
    "        bytter += f\"<p>Bytt inn: {' | '.join(transfer_in_list)}</p>\\n\\n\"\n",
    "    if transfer_out_list:\n",
    "        bytter += f\"<p>Bytte ut: {' | '.join(transfer_out_list)}</p>\\n\\n\"\n",
    "    else:\n",
    "        bytter = \"<p>Ingen bytter.</p>\"\n",
    "\n",
    "    # bytter = f\"Bytt inn: <br>{', '.join(transfer_in(data,gameweek))}<br><br>Bytte ut: <br>{', '.join(transfer_out(data,gameweek))}\"\n",
    "\n",
    "    benktekst = \"Her er benken din\"\n",
    "    graftekst = \"Graf med oversikt over faktiske poeng og expected points\"\n",
    "    sum_expected = round(startlag(data, gameweek)[\"xP\"].sum(), 0)\n",
    "    sum_expected_points_tekst = f\"Forventet poeng med dette laget er: {sum_expected}\"\n",
    "    data2 = startlag(data, gameweek).drop(['buy_price', 'sell_price', 'lineup', 'captain', 'vicecaptain'], axis=1)\n",
    "\n",
    "# rename the columns\n",
    "    data2 = data2.rename(columns={'name': 'Navn', 'team': 'Lagnavn', 'pos': 'Posisjon', 'xP': 'Forventet poeng'})\n",
    "    data2_highlight = data2.style.format({'Forventet poeng': '{:.0f}'}).highlight_max(subset=['Forventet poeng'], color='green')\n",
    "    \n",
    "        # Generate the HTML code for the plot\n",
    "    plot_html = poeng_vs_expected_graf(df_poeng_xP, gameweek)\n",
    "    \n",
    "    captain = startlag(data,gameweek).loc[startlag(data,gameweek)['captain'] == 1, ['name', 'team']].squeeze()\n",
    "    vice_captain = startlag(data,gameweek).loc[startlag(data,gameweek)['vicecaptain'] == 1, ['name', 'team']].squeeze()\n",
    "    captain_html = (\n",
    "    \"<p>Dette er kapteinen: {} ({})</p>\"\n",
    "    \"<p>Dette er vice-captain: {} ({})</p>\").format(captain['name'], captain['team'], vice_captain['name'], vice_captain['team'])\n",
    "\n",
    "\n",
    "\n",
    "\n",
    "   \n",
    "\n",
    "    html = f'''\n",
    "        <!DOCTYPE html>\n",
    "        <html>\n",
    "            <head>\n",
    "                <title>{page_title_text}</title>\n",
    "                <style>\n",
    "                    body {{\n",
    "                        font-family: Arial, sans-serif;\n",
    "                        line-height: 1.5;\n",
    "                        padding: 20px;\n",
    "                    }}\n",
    "                    h1 {{\n",
    "                        font-size: 2em;\n",
    "                        text-align: center;\n",
    "                        margin-bottom: 20px;\n",
    "                    }}\n",
    "                    h2 {{\n",
    "                        font-size: 1.5em;\n",
    "                        margin-top: 30px;\n",
    "                        margin-bottom: 20px;\n",
    "                    }}\n",
    "                    h3 {{\n",
    "                        font-size: 1.2em;\n",
    "                        margin-top: 30px;\n",
    "                        margin-bottom: 20px;\n",
    "                    }}\n",
    "                    p {{\n",
    "                        font-size: 1.1em;\n",
    "                        margin-bottom: 20px;\n",
    "                    }}\n",
    "                    table {{\n",
    "                        border-collapse: collapse;\n",
    "                        width: 100%;\n",
    "                        margin-bottom: 20px;\n",
    "                    }}\n",
    "                    th, td {{\n",
    "                        border: 1px solid #ddd;\n",
    "                        padding: 8px;\n",
    "                        text-align: left;\n",
    "                    }}\n",
    "                    th {{\n",
    "                        background-color: #f2f2f2;\n",
    "                    }}\n",
    "                    .green {{\n",
    "                        background-color: #d4edda;\n",
    "                    }}\n",
    "                </style>\n",
    "            </head>\n",
    "            <body>\n",
    "                <h1>{title_text}</h1>\n",
    "                 <p>{introtext}</p>\n",
    "                 {bytter}\n",
    "                <h2>{startlagtekst}</h2>\n",
    "                {captain_html}\n",
    "                {data2_highlight.to_html()}\n",
    "                <p>{sum_expected_points_tekst}</p>\n",
    "                <h3>{benktekst}</h3>\n",
    "                {benklag(data, gameweek).to_html()}\n",
    "                <h4>{graftekst}</h4>\n",
    "                {plot_html}\n",
    "            </body>\n",
    "        </html>'''\n",
    "\n",
    "\n",
    "# 3. Write the html string as an HTML file\n",
    "    with open('../output/html_report.html', 'w') as f:\n",
    "        f.write(html)\n"
   ]
  },
  {
   "cell_type": "code",
   "execution_count": 314,
   "metadata": {},
   "outputs": [
    {
     "data": {
      "application/vnd.plotly.v1+json": {
       "config": {
        "plotlyServerURL": "https://plot.ly"
       },
       "data": [
        {
         "hovertemplate": "sepal_width=%{x}<br>sepal_length=%{y}<extra></extra>",
         "legendgroup": "",
         "marker": {
          "color": "#636efa",
          "symbol": "circle"
         },
         "mode": "markers",
         "name": "",
         "orientation": "v",
         "showlegend": false,
         "type": "scatter",
         "x": [
          3.5,
          3,
          3.2,
          3.1,
          3.6,
          3.9,
          3.4,
          3.4,
          2.9,
          3.1,
          3.7,
          3.4,
          3,
          3,
          4,
          4.4,
          3.9,
          3.5,
          3.8,
          3.8,
          3.4,
          3.7,
          3.6,
          3.3,
          3.4,
          3,
          3.4,
          3.5,
          3.4,
          3.2,
          3.1,
          3.4,
          4.1,
          4.2,
          3.1,
          3.2,
          3.5,
          3.1,
          3,
          3.4,
          3.5,
          2.3,
          3.2,
          3.5,
          3.8,
          3,
          3.8,
          3.2,
          3.7,
          3.3,
          3.2,
          3.2,
          3.1,
          2.3,
          2.8,
          2.8,
          3.3,
          2.4,
          2.9,
          2.7,
          2,
          3,
          2.2,
          2.9,
          2.9,
          3.1,
          3,
          2.7,
          2.2,
          2.5,
          3.2,
          2.8,
          2.5,
          2.8,
          2.9,
          3,
          2.8,
          3,
          2.9,
          2.6,
          2.4,
          2.4,
          2.7,
          2.7,
          3,
          3.4,
          3.1,
          2.3,
          3,
          2.5,
          2.6,
          3,
          2.6,
          2.3,
          2.7,
          3,
          2.9,
          2.9,
          2.5,
          2.8,
          3.3,
          2.7,
          3,
          2.9,
          3,
          3,
          2.5,
          2.9,
          2.5,
          3.6,
          3.2,
          2.7,
          3,
          2.5,
          2.8,
          3.2,
          3,
          3.8,
          2.6,
          2.2,
          3.2,
          2.8,
          2.8,
          2.7,
          3.3,
          3.2,
          2.8,
          3,
          2.8,
          3,
          2.8,
          3.8,
          2.8,
          2.8,
          2.6,
          3,
          3.4,
          3.1,
          3,
          3.1,
          3.1,
          3.1,
          2.7,
          3.2,
          3.3,
          3,
          2.5,
          3,
          3.4,
          3
         ],
         "xaxis": "x",
         "y": [
          5.1,
          4.9,
          4.7,
          4.6,
          5,
          5.4,
          4.6,
          5,
          4.4,
          4.9,
          5.4,
          4.8,
          4.8,
          4.3,
          5.8,
          5.7,
          5.4,
          5.1,
          5.7,
          5.1,
          5.4,
          5.1,
          4.6,
          5.1,
          4.8,
          5,
          5,
          5.2,
          5.2,
          4.7,
          4.8,
          5.4,
          5.2,
          5.5,
          4.9,
          5,
          5.5,
          4.9,
          4.4,
          5.1,
          5,
          4.5,
          4.4,
          5,
          5.1,
          4.8,
          5.1,
          4.6,
          5.3,
          5,
          7,
          6.4,
          6.9,
          5.5,
          6.5,
          5.7,
          6.3,
          4.9,
          6.6,
          5.2,
          5,
          5.9,
          6,
          6.1,
          5.6,
          6.7,
          5.6,
          5.8,
          6.2,
          5.6,
          5.9,
          6.1,
          6.3,
          6.1,
          6.4,
          6.6,
          6.8,
          6.7,
          6,
          5.7,
          5.5,
          5.5,
          5.8,
          6,
          5.4,
          6,
          6.7,
          6.3,
          5.6,
          5.5,
          5.5,
          6.1,
          5.8,
          5,
          5.6,
          5.7,
          5.7,
          6.2,
          5.1,
          5.7,
          6.3,
          5.8,
          7.1,
          6.3,
          6.5,
          7.6,
          4.9,
          7.3,
          6.7,
          7.2,
          6.5,
          6.4,
          6.8,
          5.7,
          5.8,
          6.4,
          6.5,
          7.7,
          7.7,
          6,
          6.9,
          5.6,
          7.7,
          6.3,
          6.7,
          7.2,
          6.2,
          6.1,
          6.4,
          7.2,
          7.4,
          7.9,
          6.4,
          6.3,
          6.1,
          7.7,
          6.3,
          6.4,
          6,
          6.9,
          6.7,
          6.9,
          5.8,
          6.8,
          6.7,
          6.7,
          6.3,
          6.5,
          6.2,
          5.9
         ],
         "yaxis": "y"
        }
       ],
       "layout": {
        "legend": {
         "tracegroupgap": 0
        },
        "margin": {
         "t": 60
        },
        "template": {
         "data": {
          "bar": [
           {
            "error_x": {
             "color": "#2a3f5f"
            },
            "error_y": {
             "color": "#2a3f5f"
            },
            "marker": {
             "line": {
              "color": "#E5ECF6",
              "width": 0.5
             },
             "pattern": {
              "fillmode": "overlay",
              "size": 10,
              "solidity": 0.2
             }
            },
            "type": "bar"
           }
          ],
          "barpolar": [
           {
            "marker": {
             "line": {
              "color": "#E5ECF6",
              "width": 0.5
             },
             "pattern": {
              "fillmode": "overlay",
              "size": 10,
              "solidity": 0.2
             }
            },
            "type": "barpolar"
           }
          ],
          "carpet": [
           {
            "aaxis": {
             "endlinecolor": "#2a3f5f",
             "gridcolor": "white",
             "linecolor": "white",
             "minorgridcolor": "white",
             "startlinecolor": "#2a3f5f"
            },
            "baxis": {
             "endlinecolor": "#2a3f5f",
             "gridcolor": "white",
             "linecolor": "white",
             "minorgridcolor": "white",
             "startlinecolor": "#2a3f5f"
            },
            "type": "carpet"
           }
          ],
          "choropleth": [
           {
            "colorbar": {
             "outlinewidth": 0,
             "ticks": ""
            },
            "type": "choropleth"
           }
          ],
          "contour": [
           {
            "colorbar": {
             "outlinewidth": 0,
             "ticks": ""
            },
            "colorscale": [
             [
              0,
              "#0d0887"
             ],
             [
              0.1111111111111111,
              "#46039f"
             ],
             [
              0.2222222222222222,
              "#7201a8"
             ],
             [
              0.3333333333333333,
              "#9c179e"
             ],
             [
              0.4444444444444444,
              "#bd3786"
             ],
             [
              0.5555555555555556,
              "#d8576b"
             ],
             [
              0.6666666666666666,
              "#ed7953"
             ],
             [
              0.7777777777777778,
              "#fb9f3a"
             ],
             [
              0.8888888888888888,
              "#fdca26"
             ],
             [
              1,
              "#f0f921"
             ]
            ],
            "type": "contour"
           }
          ],
          "contourcarpet": [
           {
            "colorbar": {
             "outlinewidth": 0,
             "ticks": ""
            },
            "type": "contourcarpet"
           }
          ],
          "heatmap": [
           {
            "colorbar": {
             "outlinewidth": 0,
             "ticks": ""
            },
            "colorscale": [
             [
              0,
              "#0d0887"
             ],
             [
              0.1111111111111111,
              "#46039f"
             ],
             [
              0.2222222222222222,
              "#7201a8"
             ],
             [
              0.3333333333333333,
              "#9c179e"
             ],
             [
              0.4444444444444444,
              "#bd3786"
             ],
             [
              0.5555555555555556,
              "#d8576b"
             ],
             [
              0.6666666666666666,
              "#ed7953"
             ],
             [
              0.7777777777777778,
              "#fb9f3a"
             ],
             [
              0.8888888888888888,
              "#fdca26"
             ],
             [
              1,
              "#f0f921"
             ]
            ],
            "type": "heatmap"
           }
          ],
          "heatmapgl": [
           {
            "colorbar": {
             "outlinewidth": 0,
             "ticks": ""
            },
            "colorscale": [
             [
              0,
              "#0d0887"
             ],
             [
              0.1111111111111111,
              "#46039f"
             ],
             [
              0.2222222222222222,
              "#7201a8"
             ],
             [
              0.3333333333333333,
              "#9c179e"
             ],
             [
              0.4444444444444444,
              "#bd3786"
             ],
             [
              0.5555555555555556,
              "#d8576b"
             ],
             [
              0.6666666666666666,
              "#ed7953"
             ],
             [
              0.7777777777777778,
              "#fb9f3a"
             ],
             [
              0.8888888888888888,
              "#fdca26"
             ],
             [
              1,
              "#f0f921"
             ]
            ],
            "type": "heatmapgl"
           }
          ],
          "histogram": [
           {
            "marker": {
             "pattern": {
              "fillmode": "overlay",
              "size": 10,
              "solidity": 0.2
             }
            },
            "type": "histogram"
           }
          ],
          "histogram2d": [
           {
            "colorbar": {
             "outlinewidth": 0,
             "ticks": ""
            },
            "colorscale": [
             [
              0,
              "#0d0887"
             ],
             [
              0.1111111111111111,
              "#46039f"
             ],
             [
              0.2222222222222222,
              "#7201a8"
             ],
             [
              0.3333333333333333,
              "#9c179e"
             ],
             [
              0.4444444444444444,
              "#bd3786"
             ],
             [
              0.5555555555555556,
              "#d8576b"
             ],
             [
              0.6666666666666666,
              "#ed7953"
             ],
             [
              0.7777777777777778,
              "#fb9f3a"
             ],
             [
              0.8888888888888888,
              "#fdca26"
             ],
             [
              1,
              "#f0f921"
             ]
            ],
            "type": "histogram2d"
           }
          ],
          "histogram2dcontour": [
           {
            "colorbar": {
             "outlinewidth": 0,
             "ticks": ""
            },
            "colorscale": [
             [
              0,
              "#0d0887"
             ],
             [
              0.1111111111111111,
              "#46039f"
             ],
             [
              0.2222222222222222,
              "#7201a8"
             ],
             [
              0.3333333333333333,
              "#9c179e"
             ],
             [
              0.4444444444444444,
              "#bd3786"
             ],
             [
              0.5555555555555556,
              "#d8576b"
             ],
             [
              0.6666666666666666,
              "#ed7953"
             ],
             [
              0.7777777777777778,
              "#fb9f3a"
             ],
             [
              0.8888888888888888,
              "#fdca26"
             ],
             [
              1,
              "#f0f921"
             ]
            ],
            "type": "histogram2dcontour"
           }
          ],
          "mesh3d": [
           {
            "colorbar": {
             "outlinewidth": 0,
             "ticks": ""
            },
            "type": "mesh3d"
           }
          ],
          "parcoords": [
           {
            "line": {
             "colorbar": {
              "outlinewidth": 0,
              "ticks": ""
             }
            },
            "type": "parcoords"
           }
          ],
          "pie": [
           {
            "automargin": true,
            "type": "pie"
           }
          ],
          "scatter": [
           {
            "fillpattern": {
             "fillmode": "overlay",
             "size": 10,
             "solidity": 0.2
            },
            "type": "scatter"
           }
          ],
          "scatter3d": [
           {
            "line": {
             "colorbar": {
              "outlinewidth": 0,
              "ticks": ""
             }
            },
            "marker": {
             "colorbar": {
              "outlinewidth": 0,
              "ticks": ""
             }
            },
            "type": "scatter3d"
           }
          ],
          "scattercarpet": [
           {
            "marker": {
             "colorbar": {
              "outlinewidth": 0,
              "ticks": ""
             }
            },
            "type": "scattercarpet"
           }
          ],
          "scattergeo": [
           {
            "marker": {
             "colorbar": {
              "outlinewidth": 0,
              "ticks": ""
             }
            },
            "type": "scattergeo"
           }
          ],
          "scattergl": [
           {
            "marker": {
             "colorbar": {
              "outlinewidth": 0,
              "ticks": ""
             }
            },
            "type": "scattergl"
           }
          ],
          "scattermapbox": [
           {
            "marker": {
             "colorbar": {
              "outlinewidth": 0,
              "ticks": ""
             }
            },
            "type": "scattermapbox"
           }
          ],
          "scatterpolar": [
           {
            "marker": {
             "colorbar": {
              "outlinewidth": 0,
              "ticks": ""
             }
            },
            "type": "scatterpolar"
           }
          ],
          "scatterpolargl": [
           {
            "marker": {
             "colorbar": {
              "outlinewidth": 0,
              "ticks": ""
             }
            },
            "type": "scatterpolargl"
           }
          ],
          "scatterternary": [
           {
            "marker": {
             "colorbar": {
              "outlinewidth": 0,
              "ticks": ""
             }
            },
            "type": "scatterternary"
           }
          ],
          "surface": [
           {
            "colorbar": {
             "outlinewidth": 0,
             "ticks": ""
            },
            "colorscale": [
             [
              0,
              "#0d0887"
             ],
             [
              0.1111111111111111,
              "#46039f"
             ],
             [
              0.2222222222222222,
              "#7201a8"
             ],
             [
              0.3333333333333333,
              "#9c179e"
             ],
             [
              0.4444444444444444,
              "#bd3786"
             ],
             [
              0.5555555555555556,
              "#d8576b"
             ],
             [
              0.6666666666666666,
              "#ed7953"
             ],
             [
              0.7777777777777778,
              "#fb9f3a"
             ],
             [
              0.8888888888888888,
              "#fdca26"
             ],
             [
              1,
              "#f0f921"
             ]
            ],
            "type": "surface"
           }
          ],
          "table": [
           {
            "cells": {
             "fill": {
              "color": "#EBF0F8"
             },
             "line": {
              "color": "white"
             }
            },
            "header": {
             "fill": {
              "color": "#C8D4E3"
             },
             "line": {
              "color": "white"
             }
            },
            "type": "table"
           }
          ]
         },
         "layout": {
          "annotationdefaults": {
           "arrowcolor": "#2a3f5f",
           "arrowhead": 0,
           "arrowwidth": 1
          },
          "autotypenumbers": "strict",
          "coloraxis": {
           "colorbar": {
            "outlinewidth": 0,
            "ticks": ""
           }
          },
          "colorscale": {
           "diverging": [
            [
             0,
             "#8e0152"
            ],
            [
             0.1,
             "#c51b7d"
            ],
            [
             0.2,
             "#de77ae"
            ],
            [
             0.3,
             "#f1b6da"
            ],
            [
             0.4,
             "#fde0ef"
            ],
            [
             0.5,
             "#f7f7f7"
            ],
            [
             0.6,
             "#e6f5d0"
            ],
            [
             0.7,
             "#b8e186"
            ],
            [
             0.8,
             "#7fbc41"
            ],
            [
             0.9,
             "#4d9221"
            ],
            [
             1,
             "#276419"
            ]
           ],
           "sequential": [
            [
             0,
             "#0d0887"
            ],
            [
             0.1111111111111111,
             "#46039f"
            ],
            [
             0.2222222222222222,
             "#7201a8"
            ],
            [
             0.3333333333333333,
             "#9c179e"
            ],
            [
             0.4444444444444444,
             "#bd3786"
            ],
            [
             0.5555555555555556,
             "#d8576b"
            ],
            [
             0.6666666666666666,
             "#ed7953"
            ],
            [
             0.7777777777777778,
             "#fb9f3a"
            ],
            [
             0.8888888888888888,
             "#fdca26"
            ],
            [
             1,
             "#f0f921"
            ]
           ],
           "sequentialminus": [
            [
             0,
             "#0d0887"
            ],
            [
             0.1111111111111111,
             "#46039f"
            ],
            [
             0.2222222222222222,
             "#7201a8"
            ],
            [
             0.3333333333333333,
             "#9c179e"
            ],
            [
             0.4444444444444444,
             "#bd3786"
            ],
            [
             0.5555555555555556,
             "#d8576b"
            ],
            [
             0.6666666666666666,
             "#ed7953"
            ],
            [
             0.7777777777777778,
             "#fb9f3a"
            ],
            [
             0.8888888888888888,
             "#fdca26"
            ],
            [
             1,
             "#f0f921"
            ]
           ]
          },
          "colorway": [
           "#636efa",
           "#EF553B",
           "#00cc96",
           "#ab63fa",
           "#FFA15A",
           "#19d3f3",
           "#FF6692",
           "#B6E880",
           "#FF97FF",
           "#FECB52"
          ],
          "font": {
           "color": "#2a3f5f"
          },
          "geo": {
           "bgcolor": "white",
           "lakecolor": "white",
           "landcolor": "#E5ECF6",
           "showlakes": true,
           "showland": true,
           "subunitcolor": "white"
          },
          "hoverlabel": {
           "align": "left"
          },
          "hovermode": "closest",
          "mapbox": {
           "style": "light"
          },
          "paper_bgcolor": "white",
          "plot_bgcolor": "#E5ECF6",
          "polar": {
           "angularaxis": {
            "gridcolor": "white",
            "linecolor": "white",
            "ticks": ""
           },
           "bgcolor": "#E5ECF6",
           "radialaxis": {
            "gridcolor": "white",
            "linecolor": "white",
            "ticks": ""
           }
          },
          "scene": {
           "xaxis": {
            "backgroundcolor": "#E5ECF6",
            "gridcolor": "white",
            "gridwidth": 2,
            "linecolor": "white",
            "showbackground": true,
            "ticks": "",
            "zerolinecolor": "white"
           },
           "yaxis": {
            "backgroundcolor": "#E5ECF6",
            "gridcolor": "white",
            "gridwidth": 2,
            "linecolor": "white",
            "showbackground": true,
            "ticks": "",
            "zerolinecolor": "white"
           },
           "zaxis": {
            "backgroundcolor": "#E5ECF6",
            "gridcolor": "white",
            "gridwidth": 2,
            "linecolor": "white",
            "showbackground": true,
            "ticks": "",
            "zerolinecolor": "white"
           }
          },
          "shapedefaults": {
           "line": {
            "color": "#2a3f5f"
           }
          },
          "ternary": {
           "aaxis": {
            "gridcolor": "white",
            "linecolor": "white",
            "ticks": ""
           },
           "baxis": {
            "gridcolor": "white",
            "linecolor": "white",
            "ticks": ""
           },
           "bgcolor": "#E5ECF6",
           "caxis": {
            "gridcolor": "white",
            "linecolor": "white",
            "ticks": ""
           }
          },
          "title": {
           "x": 0.05
          },
          "xaxis": {
           "automargin": true,
           "gridcolor": "white",
           "linecolor": "white",
           "ticks": "",
           "title": {
            "standoff": 15
           },
           "zerolinecolor": "white",
           "zerolinewidth": 2
          },
          "yaxis": {
           "automargin": true,
           "gridcolor": "white",
           "linecolor": "white",
           "ticks": "",
           "title": {
            "standoff": 15
           },
           "zerolinecolor": "white",
           "zerolinewidth": 2
          }
         }
        },
        "xaxis": {
         "anchor": "y",
         "domain": [
          0,
          1
         ],
         "title": {
          "text": "sepal_width"
         }
        },
        "yaxis": {
         "anchor": "x",
         "domain": [
          0,
          1
         ],
         "title": {
          "text": "sepal_length"
         }
        }
       }
      }
     },
     "metadata": {},
     "output_type": "display_data"
    }
   ],
   "source": [
    "import plotly.express as px\n",
    "\n",
    "df = px.data.iris()\n",
    "fig = px.scatter(df, x=\"sepal_width\", y=\"sepal_length\")\n",
    "fig.show()"
   ]
  },
  {
   "cell_type": "code",
   "execution_count": 315,
   "metadata": {},
   "outputs": [
    {
     "name": "stdout",
     "output_type": "stream",
     "text": [
      "    pos       team              name  count\n",
      "0   DEF    Arsenal           Gabriel      1\n",
      "1   DEF  Liverpool  Alexander-Arnold      1\n",
      "2   DEF   Man City               Aké      1\n",
      "3   FWD    Arsenal           Nketiah      1\n",
      "4   FWD  Liverpool            Darwin      1\n",
      "5   FWD   Man City           Haaland      1\n",
      "6   GKP    Everton          Pickford      1\n",
      "7   MID    Arsenal              Saka      1\n",
      "8   MID    Everton            McNeil      1\n",
      "9   MID     Fulham           Andreas      1\n",
      "10  MID  Liverpool             Salah      1\n"
     ]
    }
   ],
   "source": [
    "# pos_categories = pd.Categorical(['GKP', 'DEF', 'MID', 'FWD'], ordered=True)\n",
    "# print(startlag(latest_optimal_plan_data, 25) .shape)\n",
    "# print(pos_categories)\n",
    "grouped = startlag(latest_optimal_plan_data, 25).groupby(['pos', 'team', 'name']).size().reset_index(name='count')\n",
    "print(grouped)\n"
   ]
  },
  {
   "cell_type": "code",
   "execution_count": 316,
   "metadata": {},
   "outputs": [],
   "source": [
    "rapport(latest_optimal_plan_data, 25)"
   ]
  },
  {
   "cell_type": "code",
   "execution_count": 317,
   "metadata": {},
   "outputs": [
    {
     "data": {
      "text/html": [
       "<div>\n",
       "<style scoped>\n",
       "    .dataframe tbody tr th:only-of-type {\n",
       "        vertical-align: middle;\n",
       "    }\n",
       "\n",
       "    .dataframe tbody tr th {\n",
       "        vertical-align: top;\n",
       "    }\n",
       "\n",
       "    .dataframe thead th {\n",
       "        text-align: right;\n",
       "    }\n",
       "</style>\n",
       "<table border=\"1\" class=\"dataframe\">\n",
       "  <thead>\n",
       "    <tr style=\"text-align: right;\">\n",
       "      <th></th>\n",
       "      <th>name</th>\n",
       "      <th>pos</th>\n",
       "      <th>team</th>\n",
       "      <th>buy_price</th>\n",
       "      <th>sell_price</th>\n",
       "      <th>xP</th>\n",
       "      <th>lineup</th>\n",
       "      <th>captain</th>\n",
       "      <th>vicecaptain</th>\n",
       "    </tr>\n",
       "  </thead>\n",
       "  <tbody>\n",
       "    <tr>\n",
       "      <th>0</th>\n",
       "      <td>Pickford</td>\n",
       "      <td>GKP</td>\n",
       "      <td>Everton</td>\n",
       "      <td>4.4</td>\n",
       "      <td>4.4</td>\n",
       "      <td>7.02</td>\n",
       "      <td>1</td>\n",
       "      <td>0</td>\n",
       "      <td>0</td>\n",
       "    </tr>\n",
       "    <tr>\n",
       "      <th>1</th>\n",
       "      <td>Aké</td>\n",
       "      <td>DEF</td>\n",
       "      <td>Man City</td>\n",
       "      <td>5.1</td>\n",
       "      <td>5.0</td>\n",
       "      <td>3.07</td>\n",
       "      <td>1</td>\n",
       "      <td>0</td>\n",
       "      <td>0</td>\n",
       "    </tr>\n",
       "    <tr>\n",
       "      <th>2</th>\n",
       "      <td>Gabriel</td>\n",
       "      <td>DEF</td>\n",
       "      <td>Arsenal</td>\n",
       "      <td>5.2</td>\n",
       "      <td>5.2</td>\n",
       "      <td>8.66</td>\n",
       "      <td>1</td>\n",
       "      <td>0</td>\n",
       "      <td>0</td>\n",
       "    </tr>\n",
       "    <tr>\n",
       "      <th>3</th>\n",
       "      <td>Alexander-Arnold</td>\n",
       "      <td>DEF</td>\n",
       "      <td>Liverpool</td>\n",
       "      <td>7.3</td>\n",
       "      <td>7.2</td>\n",
       "      <td>9.91</td>\n",
       "      <td>1</td>\n",
       "      <td>0</td>\n",
       "      <td>0</td>\n",
       "    </tr>\n",
       "    <tr>\n",
       "      <th>4</th>\n",
       "      <td>Andreas</td>\n",
       "      <td>MID</td>\n",
       "      <td>Fulham</td>\n",
       "      <td>4.4</td>\n",
       "      <td>4.4</td>\n",
       "      <td>3.90</td>\n",
       "      <td>1</td>\n",
       "      <td>0</td>\n",
       "      <td>0</td>\n",
       "    </tr>\n",
       "    <tr>\n",
       "      <th>5</th>\n",
       "      <td>McNeil</td>\n",
       "      <td>MID</td>\n",
       "      <td>Everton</td>\n",
       "      <td>5.1</td>\n",
       "      <td>5.1</td>\n",
       "      <td>5.73</td>\n",
       "      <td>1</td>\n",
       "      <td>0</td>\n",
       "      <td>0</td>\n",
       "    </tr>\n",
       "    <tr>\n",
       "      <th>6</th>\n",
       "      <td>Saka</td>\n",
       "      <td>MID</td>\n",
       "      <td>Arsenal</td>\n",
       "      <td>8.4</td>\n",
       "      <td>8.2</td>\n",
       "      <td>11.45</td>\n",
       "      <td>1</td>\n",
       "      <td>0</td>\n",
       "      <td>1</td>\n",
       "    </tr>\n",
       "    <tr>\n",
       "      <th>7</th>\n",
       "      <td>Salah</td>\n",
       "      <td>MID</td>\n",
       "      <td>Liverpool</td>\n",
       "      <td>12.7</td>\n",
       "      <td>12.7</td>\n",
       "      <td>24.94</td>\n",
       "      <td>1</td>\n",
       "      <td>1</td>\n",
       "      <td>0</td>\n",
       "    </tr>\n",
       "    <tr>\n",
       "      <th>8</th>\n",
       "      <td>Haaland</td>\n",
       "      <td>FWD</td>\n",
       "      <td>Man City</td>\n",
       "      <td>12.2</td>\n",
       "      <td>11.9</td>\n",
       "      <td>6.93</td>\n",
       "      <td>1</td>\n",
       "      <td>0</td>\n",
       "      <td>0</td>\n",
       "    </tr>\n",
       "    <tr>\n",
       "      <th>9</th>\n",
       "      <td>Darwin</td>\n",
       "      <td>FWD</td>\n",
       "      <td>Liverpool</td>\n",
       "      <td>8.7</td>\n",
       "      <td>8.7</td>\n",
       "      <td>9.17</td>\n",
       "      <td>1</td>\n",
       "      <td>0</td>\n",
       "      <td>0</td>\n",
       "    </tr>\n",
       "    <tr>\n",
       "      <th>10</th>\n",
       "      <td>Nketiah</td>\n",
       "      <td>FWD</td>\n",
       "      <td>Arsenal</td>\n",
       "      <td>6.8</td>\n",
       "      <td>6.8</td>\n",
       "      <td>9.84</td>\n",
       "      <td>1</td>\n",
       "      <td>0</td>\n",
       "      <td>0</td>\n",
       "    </tr>\n",
       "  </tbody>\n",
       "</table>\n",
       "</div>"
      ],
      "text/plain": [
       "                name  pos       team  buy_price  sell_price     xP  lineup  \\\n",
       "0           Pickford  GKP    Everton        4.4         4.4   7.02       1   \n",
       "1                Aké  DEF   Man City        5.1         5.0   3.07       1   \n",
       "2            Gabriel  DEF    Arsenal        5.2         5.2   8.66       1   \n",
       "3   Alexander-Arnold  DEF  Liverpool        7.3         7.2   9.91       1   \n",
       "4            Andreas  MID     Fulham        4.4         4.4   3.90       1   \n",
       "5             McNeil  MID    Everton        5.1         5.1   5.73       1   \n",
       "6               Saka  MID    Arsenal        8.4         8.2  11.45       1   \n",
       "7              Salah  MID  Liverpool       12.7        12.7  24.94       1   \n",
       "8            Haaland  FWD   Man City       12.2        11.9   6.93       1   \n",
       "9             Darwin  FWD  Liverpool        8.7         8.7   9.17       1   \n",
       "10           Nketiah  FWD    Arsenal        6.8         6.8   9.84       1   \n",
       "\n",
       "    captain  vicecaptain  \n",
       "0         0            0  \n",
       "1         0            0  \n",
       "2         0            0  \n",
       "3         0            0  \n",
       "4         0            0  \n",
       "5         0            0  \n",
       "6         0            1  \n",
       "7         1            0  \n",
       "8         0            0  \n",
       "9         0            0  \n",
       "10        0            0  "
      ]
     },
     "execution_count": 317,
     "metadata": {},
     "output_type": "execute_result"
    }
   ],
   "source": [
    "startlag(latest_optimal_plan_data,25)"
   ]
  },
  {
   "cell_type": "code",
   "execution_count": 318,
   "metadata": {},
   "outputs": [
    {
     "data": {
      "text/html": [
       "<style type=\"text/css\">\n",
       "#T_f16cd_row10_col0 {\n",
       "  background-color: green;\n",
       "}\n",
       "</style>\n",
       "<table id=\"T_f16cd\">\n",
       "  <thead>\n",
       "    <tr>\n",
       "      <th class=\"blank\" >&nbsp;</th>\n",
       "      <th class=\"blank\" >&nbsp;</th>\n",
       "      <th class=\"blank level0\" >&nbsp;</th>\n",
       "      <th id=\"T_f16cd_level0_col0\" class=\"col_heading level0 col0\" >xP</th>\n",
       "    </tr>\n",
       "    <tr>\n",
       "      <th class=\"index_name level0\" >name</th>\n",
       "      <th class=\"index_name level1\" >team</th>\n",
       "      <th class=\"index_name level2\" >pos</th>\n",
       "      <th class=\"blank col0\" >&nbsp;</th>\n",
       "    </tr>\n",
       "  </thead>\n",
       "  <tbody>\n",
       "    <tr>\n",
       "      <th id=\"T_f16cd_level0_row0\" class=\"row_heading level0 row0\" >Aké</th>\n",
       "      <th id=\"T_f16cd_level1_row0\" class=\"row_heading level1 row0\" >Man City</th>\n",
       "      <th id=\"T_f16cd_level2_row0\" class=\"row_heading level2 row0\" >DEF</th>\n",
       "      <td id=\"T_f16cd_row0_col0\" class=\"data row0 col0\" >3</td>\n",
       "    </tr>\n",
       "    <tr>\n",
       "      <th id=\"T_f16cd_level0_row1\" class=\"row_heading level0 row1\" >Alexander-Arnold</th>\n",
       "      <th id=\"T_f16cd_level1_row1\" class=\"row_heading level1 row1\" >Liverpool</th>\n",
       "      <th id=\"T_f16cd_level2_row1\" class=\"row_heading level2 row1\" >DEF</th>\n",
       "      <td id=\"T_f16cd_row1_col0\" class=\"data row1 col0\" >10</td>\n",
       "    </tr>\n",
       "    <tr>\n",
       "      <th id=\"T_f16cd_level0_row2\" class=\"row_heading level0 row2\" >Gabriel</th>\n",
       "      <th id=\"T_f16cd_level1_row2\" class=\"row_heading level1 row2\" >Arsenal</th>\n",
       "      <th id=\"T_f16cd_level2_row2\" class=\"row_heading level2 row2\" >DEF</th>\n",
       "      <td id=\"T_f16cd_row2_col0\" class=\"data row2 col0\" >9</td>\n",
       "    </tr>\n",
       "    <tr>\n",
       "      <th id=\"T_f16cd_level0_row3\" class=\"row_heading level0 row3\" >Darwin</th>\n",
       "      <th id=\"T_f16cd_level1_row3\" class=\"row_heading level1 row3\" >Liverpool</th>\n",
       "      <th id=\"T_f16cd_level2_row3\" class=\"row_heading level2 row3\" >FWD</th>\n",
       "      <td id=\"T_f16cd_row3_col0\" class=\"data row3 col0\" >9</td>\n",
       "    </tr>\n",
       "    <tr>\n",
       "      <th id=\"T_f16cd_level0_row4\" class=\"row_heading level0 row4\" >Haaland</th>\n",
       "      <th id=\"T_f16cd_level1_row4\" class=\"row_heading level1 row4\" >Man City</th>\n",
       "      <th id=\"T_f16cd_level2_row4\" class=\"row_heading level2 row4\" >FWD</th>\n",
       "      <td id=\"T_f16cd_row4_col0\" class=\"data row4 col0\" >7</td>\n",
       "    </tr>\n",
       "    <tr>\n",
       "      <th id=\"T_f16cd_level0_row5\" class=\"row_heading level0 row5\" >Nketiah</th>\n",
       "      <th id=\"T_f16cd_level1_row5\" class=\"row_heading level1 row5\" >Arsenal</th>\n",
       "      <th id=\"T_f16cd_level2_row5\" class=\"row_heading level2 row5\" >FWD</th>\n",
       "      <td id=\"T_f16cd_row5_col0\" class=\"data row5 col0\" >10</td>\n",
       "    </tr>\n",
       "    <tr>\n",
       "      <th id=\"T_f16cd_level0_row6\" class=\"row_heading level0 row6\" >Pickford</th>\n",
       "      <th id=\"T_f16cd_level1_row6\" class=\"row_heading level1 row6\" >Everton</th>\n",
       "      <th id=\"T_f16cd_level2_row6\" class=\"row_heading level2 row6\" >GKP</th>\n",
       "      <td id=\"T_f16cd_row6_col0\" class=\"data row6 col0\" >7</td>\n",
       "    </tr>\n",
       "    <tr>\n",
       "      <th id=\"T_f16cd_level0_row7\" class=\"row_heading level0 row7\" >Andreas</th>\n",
       "      <th id=\"T_f16cd_level1_row7\" class=\"row_heading level1 row7\" >Fulham</th>\n",
       "      <th id=\"T_f16cd_level2_row7\" class=\"row_heading level2 row7\" >MID</th>\n",
       "      <td id=\"T_f16cd_row7_col0\" class=\"data row7 col0\" >4</td>\n",
       "    </tr>\n",
       "    <tr>\n",
       "      <th id=\"T_f16cd_level0_row8\" class=\"row_heading level0 row8\" >McNeil</th>\n",
       "      <th id=\"T_f16cd_level1_row8\" class=\"row_heading level1 row8\" >Everton</th>\n",
       "      <th id=\"T_f16cd_level2_row8\" class=\"row_heading level2 row8\" >MID</th>\n",
       "      <td id=\"T_f16cd_row8_col0\" class=\"data row8 col0\" >6</td>\n",
       "    </tr>\n",
       "    <tr>\n",
       "      <th id=\"T_f16cd_level0_row9\" class=\"row_heading level0 row9\" >Saka</th>\n",
       "      <th id=\"T_f16cd_level1_row9\" class=\"row_heading level1 row9\" >Arsenal</th>\n",
       "      <th id=\"T_f16cd_level2_row9\" class=\"row_heading level2 row9\" >MID</th>\n",
       "      <td id=\"T_f16cd_row9_col0\" class=\"data row9 col0\" >11</td>\n",
       "    </tr>\n",
       "    <tr>\n",
       "      <th id=\"T_f16cd_level0_row10\" class=\"row_heading level0 row10\" >Salah</th>\n",
       "      <th id=\"T_f16cd_level1_row10\" class=\"row_heading level1 row10\" >Liverpool</th>\n",
       "      <th id=\"T_f16cd_level2_row10\" class=\"row_heading level2 row10\" >MID</th>\n",
       "      <td id=\"T_f16cd_row10_col0\" class=\"data row10 col0\" >25</td>\n",
       "    </tr>\n",
       "  </tbody>\n",
       "</table>\n"
      ],
      "text/plain": [
       "<pandas.io.formats.style.Styler at 0x1684e9110>"
      ]
     },
     "execution_count": 318,
     "metadata": {},
     "output_type": "execute_result"
    }
   ],
   "source": [
    "pivot = pd.pivot_table(startlag(latest_optimal_plan_data,25), index = ['name', 'team', \"pos\"], values = 'xP', aggfunc = 'sum' ).sort_values(by='pos')\n",
    "pivot_highlight = pivot.style.format({'xP':'{0:,.0f}'})\\\n",
    "    .highlight_max(color='green')\n",
    "\n",
    "pivot_highlight\n"
   ]
  },
  {
   "cell_type": "code",
   "execution_count": null,
   "metadata": {},
   "outputs": [],
   "source": []
  },
  {
   "cell_type": "code",
   "execution_count": null,
   "metadata": {},
   "outputs": [],
   "source": []
  },
  {
   "cell_type": "code",
   "execution_count": null,
   "metadata": {},
   "outputs": [],
   "source": []
  },
  {
   "cell_type": "code",
   "execution_count": null,
   "metadata": {},
   "outputs": [],
   "source": []
  },
  {
   "cell_type": "code",
   "execution_count": null,
   "metadata": {},
   "outputs": [],
   "source": []
  },
  {
   "cell_type": "code",
   "execution_count": null,
   "metadata": {},
   "outputs": [],
   "source": []
  },
  {
   "cell_type": "code",
   "execution_count": null,
   "metadata": {},
   "outputs": [],
   "source": []
  }
 ],
 "metadata": {
  "kernelspec": {
   "display_name": "Python 3.11.0 64-bit",
   "language": "python",
   "name": "python3"
  },
  "language_info": {
   "codemirror_mode": {
    "name": "ipython",
    "version": 3
   },
   "file_extension": ".py",
   "mimetype": "text/x-python",
   "name": "python",
   "nbconvert_exporter": "python",
   "pygments_lexer": "ipython3",
   "version": "3.11.0"
  },
  "orig_nbformat": 4,
  "vscode": {
   "interpreter": {
    "hash": "aee8b7b246df8f9039afb4144a1f6fd8d2ca17a180786b69acc140d282b71a49"
   }
  }
 },
 "nbformat": 4,
 "nbformat_minor": 2
}
